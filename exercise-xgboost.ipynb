{
 "cells": [
  {
   "cell_type": "markdown",
   "id": "4cb1cf1d",
   "metadata": {
    "papermill": {
     "duration": 0.005002,
     "end_time": "2024-01-05T11:20:17.436916",
     "exception": false,
     "start_time": "2024-01-05T11:20:17.431914",
     "status": "completed"
    },
    "tags": []
   },
   "source": [
    "**This notebook is an exercise in the [Intermediate Machine Learning](https://www.kaggle.com/learn/intermediate-machine-learning) course.  You can reference the tutorial at [this link](https://www.kaggle.com/alexisbcook/xgboost).**\n",
    "\n",
    "---\n"
   ]
  },
  {
   "cell_type": "markdown",
   "id": "73978107",
   "metadata": {
    "papermill": {
     "duration": 0.004143,
     "end_time": "2024-01-05T11:20:17.445527",
     "exception": false,
     "start_time": "2024-01-05T11:20:17.441384",
     "status": "completed"
    },
    "tags": []
   },
   "source": [
    "In this exercise, you will use your new knowledge to train a model with **gradient boosting**.\n",
    "\n",
    "# Setup\n",
    "\n",
    "The questions below will give you feedback on your work. Run the following cell to set up the feedback system."
   ]
  },
  {
   "cell_type": "code",
   "execution_count": 1,
   "id": "fd0504fb",
   "metadata": {
    "execution": {
     "iopub.execute_input": "2024-01-05T11:20:17.455811Z",
     "iopub.status.busy": "2024-01-05T11:20:17.455469Z",
     "iopub.status.idle": "2024-01-05T11:20:19.912715Z",
     "shell.execute_reply": "2024-01-05T11:20:19.911876Z"
    },
    "papermill": {
     "duration": 2.464525,
     "end_time": "2024-01-05T11:20:19.914474",
     "exception": false,
     "start_time": "2024-01-05T11:20:17.449949",
     "status": "completed"
    },
    "tags": []
   },
   "outputs": [
    {
     "name": "stdout",
     "output_type": "stream",
     "text": [
      "Setup Complete\n"
     ]
    }
   ],
   "source": [
    "# Set up code checking\n",
    "import os\n",
    "if not os.path.exists(\"../input/train.csv\"):\n",
    "    os.symlink(\"../input/home-data-for-ml-course/train.csv\", \"../input/train.csv\")  \n",
    "    os.symlink(\"../input/home-data-for-ml-course/test.csv\", \"../input/test.csv\") \n",
    "from learntools.core import binder\n",
    "binder.bind(globals())\n",
    "from learntools.ml_intermediate.ex6 import *\n",
    "print(\"Setup Complete\")"
   ]
  },
  {
   "cell_type": "markdown",
   "id": "71791be8",
   "metadata": {
    "papermill": {
     "duration": 0.004599,
     "end_time": "2024-01-05T11:20:19.923606",
     "exception": false,
     "start_time": "2024-01-05T11:20:19.919007",
     "status": "completed"
    },
    "tags": []
   },
   "source": [
    "You will work with the [Housing Prices Competition for Kaggle Learn Users](https://www.kaggle.com/c/home-data-for-ml-course) dataset from the previous exercise. \n",
    "\n",
    "![Ames Housing dataset image](https://storage.googleapis.com/kaggle-media/learn/images/lTJVG4e.png)\n",
    "\n",
    "Run the next code cell without changes to load the training and validation sets in `X_train`, `X_valid`, `y_train`, and `y_valid`.  The test set is loaded in `X_test`."
   ]
  },
  {
   "cell_type": "code",
   "execution_count": 2,
   "id": "3be6691c",
   "metadata": {
    "execution": {
     "iopub.execute_input": "2024-01-05T11:20:19.933813Z",
     "iopub.status.busy": "2024-01-05T11:20:19.933231Z",
     "iopub.status.idle": "2024-01-05T11:20:20.064336Z",
     "shell.execute_reply": "2024-01-05T11:20:20.063651Z"
    },
    "papermill": {
     "duration": 0.138985,
     "end_time": "2024-01-05T11:20:20.066769",
     "exception": false,
     "start_time": "2024-01-05T11:20:19.927784",
     "status": "completed"
    },
    "tags": []
   },
   "outputs": [],
   "source": [
    "import pandas as pd\n",
    "from sklearn.model_selection import train_test_split\n",
    "\n",
    "# Read the data\n",
    "X = pd.read_csv('../input/train.csv', index_col='Id')\n",
    "X_test_full = pd.read_csv('../input/test.csv', index_col='Id')\n",
    "\n",
    "# Remove rows with missing target, separate target from predictors\n",
    "X.dropna(axis=0, subset=['SalePrice'], inplace=True)\n",
    "y = X.SalePrice              \n",
    "X.drop(['SalePrice'], axis=1, inplace=True)\n",
    "\n",
    "# Break off validation set from training data\n",
    "X_train_full, X_valid_full, y_train, y_valid = train_test_split(X, y, train_size=0.8, test_size=0.2,\n",
    "                                                                random_state=0)\n",
    "\n",
    "# \"Cardinality\" means the number of unique values in a column\n",
    "# Select categorical columns with relatively low cardinality (convenient but arbitrary)\n",
    "low_cardinality_cols = [cname for cname in X_train_full.columns if X_train_full[cname].nunique() < 10 and \n",
    "                        X_train_full[cname].dtype == \"object\"]\n",
    "\n",
    "# Select numeric columns\n",
    "numeric_cols = [cname for cname in X_train_full.columns if X_train_full[cname].dtype in ['int64', 'float64']]\n",
    "\n",
    "# Keep selected columns only\n",
    "my_cols = low_cardinality_cols + numeric_cols\n",
    "X_train = X_train_full[my_cols].copy()\n",
    "X_valid = X_valid_full[my_cols].copy()\n",
    "X_test = X_test_full[my_cols].copy()\n",
    "\n",
    "# One-hot encode the data (to shorten the code, we use pandas)\n",
    "X_train = pd.get_dummies(X_train)\n",
    "X_valid = pd.get_dummies(X_valid)\n",
    "X_test = pd.get_dummies(X_test)\n",
    "X_train, X_valid = X_train.align(X_valid, join='left', axis=1)\n",
    "X_train, X_test = X_train.align(X_test, join='left', axis=1)"
   ]
  },
  {
   "cell_type": "markdown",
   "id": "ced6bf88",
   "metadata": {
    "papermill": {
     "duration": 0.004058,
     "end_time": "2024-01-05T11:20:20.075429",
     "exception": false,
     "start_time": "2024-01-05T11:20:20.071371",
     "status": "completed"
    },
    "tags": []
   },
   "source": [
    "# Step 1: Build model\n",
    "\n",
    "### Part A\n",
    "\n",
    "In this step, you'll build and train your first model with gradient boosting.\n",
    "\n",
    "- Begin by setting `my_model_1` to an XGBoost model.  Use the [XGBRegressor](https://xgboost.readthedocs.io/en/latest/python/python_api.html#xgboost.XGBRegressor) class, and set the random seed to 0 (`random_state=0`).  **Leave all other parameters as default.**\n",
    "- Then, fit the model to the training data in `X_train` and `y_train`."
   ]
  },
  {
   "cell_type": "code",
   "execution_count": 3,
   "id": "5744a10c",
   "metadata": {
    "execution": {
     "iopub.execute_input": "2024-01-05T11:20:20.085764Z",
     "iopub.status.busy": "2024-01-05T11:20:20.085238Z",
     "iopub.status.idle": "2024-01-05T11:20:20.426132Z",
     "shell.execute_reply": "2024-01-05T11:20:20.425412Z"
    },
    "papermill": {
     "duration": 0.348329,
     "end_time": "2024-01-05T11:20:20.427907",
     "exception": false,
     "start_time": "2024-01-05T11:20:20.079578",
     "status": "completed"
    },
    "tags": []
   },
   "outputs": [
    {
     "data": {
      "application/javascript": [
       "parent.postMessage({\"jupyterEvent\": \"custom.exercise_interaction\", \"data\": {\"outcomeType\": 1, \"valueTowardsCompletion\": 0.5, \"interactionType\": 1, \"questionType\": 2, \"questionId\": \"1.1_Model1A\", \"learnToolsVersion\": \"0.3.4\", \"failureMessage\": \"\", \"exceptionClass\": \"\", \"trace\": \"\"}}, \"*\")"
      ],
      "text/plain": [
       "<IPython.core.display.Javascript object>"
      ]
     },
     "metadata": {},
     "output_type": "display_data"
    },
    {
     "data": {
      "text/markdown": [
       "<span style=\"color:#33cc33\">Correct</span>"
      ],
      "text/plain": [
       "Correct"
      ]
     },
     "metadata": {},
     "output_type": "display_data"
    }
   ],
   "source": [
    "from xgboost import XGBRegressor\n",
    "\n",
    "# Define the model\n",
    "my_model_1 = XGBRegressor(random_state=0)\n",
    "\n",
    "# Fit the model\n",
    "my_model_1.fit(X_train, y_train)\n",
    "\n",
    "# Check your answer\n",
    "step_1.a.check()"
   ]
  },
  {
   "cell_type": "code",
   "execution_count": 4,
   "id": "8d888b8b",
   "metadata": {
    "execution": {
     "iopub.execute_input": "2024-01-05T11:20:20.439362Z",
     "iopub.status.busy": "2024-01-05T11:20:20.438742Z",
     "iopub.status.idle": "2024-01-05T11:20:20.443030Z",
     "shell.execute_reply": "2024-01-05T11:20:20.442046Z"
    },
    "papermill": {
     "duration": 0.012385,
     "end_time": "2024-01-05T11:20:20.445188",
     "exception": false,
     "start_time": "2024-01-05T11:20:20.432803",
     "status": "completed"
    },
    "tags": []
   },
   "outputs": [],
   "source": [
    "# Lines below will give you a hint or solution code\n",
    "#step_1.a.hint()\n",
    "#step_1.a.solution()"
   ]
  },
  {
   "cell_type": "markdown",
   "id": "c106068f",
   "metadata": {
    "papermill": {
     "duration": 0.004644,
     "end_time": "2024-01-05T11:20:20.454750",
     "exception": false,
     "start_time": "2024-01-05T11:20:20.450106",
     "status": "completed"
    },
    "tags": []
   },
   "source": [
    "### Part B\n",
    "\n",
    "Set `predictions_1` to the model's predictions for the validation data.  Recall that the validation features are stored in `X_valid`."
   ]
  },
  {
   "cell_type": "code",
   "execution_count": 5,
   "id": "077b86f6",
   "metadata": {
    "execution": {
     "iopub.execute_input": "2024-01-05T11:20:20.465810Z",
     "iopub.status.busy": "2024-01-05T11:20:20.465175Z",
     "iopub.status.idle": "2024-01-05T11:20:20.503425Z",
     "shell.execute_reply": "2024-01-05T11:20:20.502137Z"
    },
    "papermill": {
     "duration": 0.046866,
     "end_time": "2024-01-05T11:20:20.506191",
     "exception": false,
     "start_time": "2024-01-05T11:20:20.459325",
     "status": "completed"
    },
    "tags": []
   },
   "outputs": [
    {
     "data": {
      "application/javascript": [
       "parent.postMessage({\"jupyterEvent\": \"custom.exercise_interaction\", \"data\": {\"outcomeType\": 1, \"valueTowardsCompletion\": 0.5, \"interactionType\": 1, \"questionType\": 2, \"questionId\": \"1.2_Model1B\", \"learnToolsVersion\": \"0.3.4\", \"failureMessage\": \"\", \"exceptionClass\": \"\", \"trace\": \"\"}}, \"*\")"
      ],
      "text/plain": [
       "<IPython.core.display.Javascript object>"
      ]
     },
     "metadata": {},
     "output_type": "display_data"
    },
    {
     "data": {
      "text/markdown": [
       "<span style=\"color:#33cc33\">Correct</span>"
      ],
      "text/plain": [
       "Correct"
      ]
     },
     "metadata": {},
     "output_type": "display_data"
    }
   ],
   "source": [
    "from sklearn.metrics import mean_absolute_error\n",
    "\n",
    "# Get predictions\n",
    "predictions_1 = my_model_1.predict(X_valid)\n",
    "\n",
    "# Check your answer\n",
    "step_1.b.check()"
   ]
  },
  {
   "cell_type": "code",
   "execution_count": 6,
   "id": "28c8d16c",
   "metadata": {
    "execution": {
     "iopub.execute_input": "2024-01-05T11:20:20.518106Z",
     "iopub.status.busy": "2024-01-05T11:20:20.517775Z",
     "iopub.status.idle": "2024-01-05T11:20:20.521866Z",
     "shell.execute_reply": "2024-01-05T11:20:20.520841Z"
    },
    "papermill": {
     "duration": 0.012022,
     "end_time": "2024-01-05T11:20:20.523537",
     "exception": false,
     "start_time": "2024-01-05T11:20:20.511515",
     "status": "completed"
    },
    "tags": []
   },
   "outputs": [],
   "source": [
    "# Lines below will give you a hint or solution code\n",
    "#step_1.b.hint()\n",
    "#step_1.b.solution()"
   ]
  },
  {
   "cell_type": "markdown",
   "id": "ef104c25",
   "metadata": {
    "papermill": {
     "duration": 0.004941,
     "end_time": "2024-01-05T11:20:20.534116",
     "exception": false,
     "start_time": "2024-01-05T11:20:20.529175",
     "status": "completed"
    },
    "tags": []
   },
   "source": [
    "### Part C\n",
    "\n",
    "Finally, use the `mean_absolute_error()` function to calculate the mean absolute error (MAE) corresponding to the predictions for the validation set.  Recall that the labels for the validation data are stored in `y_valid`."
   ]
  },
  {
   "cell_type": "code",
   "execution_count": 7,
   "id": "09e81665",
   "metadata": {
    "execution": {
     "iopub.execute_input": "2024-01-05T11:20:20.545875Z",
     "iopub.status.busy": "2024-01-05T11:20:20.545530Z",
     "iopub.status.idle": "2024-01-05T11:20:20.555310Z",
     "shell.execute_reply": "2024-01-05T11:20:20.554264Z"
    },
    "papermill": {
     "duration": 0.017775,
     "end_time": "2024-01-05T11:20:20.557130",
     "exception": false,
     "start_time": "2024-01-05T11:20:20.539355",
     "status": "completed"
    },
    "tags": []
   },
   "outputs": [
    {
     "name": "stdout",
     "output_type": "stream",
     "text": [
      "Mean Absolute Error: 18161.82412510702\n"
     ]
    },
    {
     "data": {
      "application/javascript": [
       "parent.postMessage({\"jupyterEvent\": \"custom.exercise_interaction\", \"data\": {\"outcomeType\": 1, \"valueTowardsCompletion\": 0.5, \"interactionType\": 1, \"questionType\": 2, \"questionId\": \"1.3_Model1C\", \"learnToolsVersion\": \"0.3.4\", \"failureMessage\": \"\", \"exceptionClass\": \"\", \"trace\": \"\"}}, \"*\")"
      ],
      "text/plain": [
       "<IPython.core.display.Javascript object>"
      ]
     },
     "metadata": {},
     "output_type": "display_data"
    },
    {
     "data": {
      "text/markdown": [
       "<span style=\"color:#33cc33\">Correct</span>"
      ],
      "text/plain": [
       "Correct"
      ]
     },
     "metadata": {},
     "output_type": "display_data"
    }
   ],
   "source": [
    "# Calculate MAE\n",
    "mae_1 = mean_absolute_error(predictions_1, y_valid)\n",
    "\n",
    "# Uncomment to print MAE\n",
    "print(\"Mean Absolute Error:\" , mae_1)\n",
    "\n",
    "# Check your answer\n",
    "step_1.c.check()"
   ]
  },
  {
   "cell_type": "code",
   "execution_count": 8,
   "id": "55539874",
   "metadata": {
    "execution": {
     "iopub.execute_input": "2024-01-05T11:20:20.568996Z",
     "iopub.status.busy": "2024-01-05T11:20:20.568630Z",
     "iopub.status.idle": "2024-01-05T11:20:20.573222Z",
     "shell.execute_reply": "2024-01-05T11:20:20.572214Z"
    },
    "papermill": {
     "duration": 0.012713,
     "end_time": "2024-01-05T11:20:20.575149",
     "exception": false,
     "start_time": "2024-01-05T11:20:20.562436",
     "status": "completed"
    },
    "tags": []
   },
   "outputs": [],
   "source": [
    "# Lines below will give you a hint or solution code\n",
    "#step_1.c.hint()\n",
    "#step_1.c.solution()"
   ]
  },
  {
   "cell_type": "markdown",
   "id": "b11f8169",
   "metadata": {
    "papermill": {
     "duration": 0.005777,
     "end_time": "2024-01-05T11:20:20.586096",
     "exception": false,
     "start_time": "2024-01-05T11:20:20.580319",
     "status": "completed"
    },
    "tags": []
   },
   "source": [
    "# Step 2: Improve the model\n",
    "\n",
    "Now that you've trained a default model as baseline, it's time to tinker with the parameters, to see if you can get better performance!\n",
    "- Begin by setting `my_model_2` to an XGBoost model, using the [XGBRegressor](https://xgboost.readthedocs.io/en/latest/python/python_api.html#xgboost.XGBRegressor) class.  Use what you learned in the previous tutorial to figure out how to change the default parameters (like `n_estimators` and `learning_rate`) to get better results.\n",
    "- Then, fit the model to the training data in `X_train` and `y_train`.\n",
    "- Set `predictions_2` to the model's predictions for the validation data.  Recall that the validation features are stored in `X_valid`.\n",
    "- Finally, use the `mean_absolute_error()` function to calculate the mean absolute error (MAE) corresponding to the predictions on the validation set.  Recall that the labels for the validation data are stored in `y_valid`.\n",
    "\n",
    "In order for this step to be marked correct, your model in `my_model_2` must attain lower MAE than the model in `my_model_1`. "
   ]
  },
  {
   "cell_type": "code",
   "execution_count": 9,
   "id": "8e876681",
   "metadata": {
    "execution": {
     "iopub.execute_input": "2024-01-05T11:20:20.597751Z",
     "iopub.status.busy": "2024-01-05T11:20:20.597382Z",
     "iopub.status.idle": "2024-01-05T11:20:23.464969Z",
     "shell.execute_reply": "2024-01-05T11:20:23.464182Z"
    },
    "papermill": {
     "duration": 2.876422,
     "end_time": "2024-01-05T11:20:23.467737",
     "exception": false,
     "start_time": "2024-01-05T11:20:20.591315",
     "status": "completed"
    },
    "tags": []
   },
   "outputs": [
    {
     "name": "stdout",
     "output_type": "stream",
     "text": [
      "Mean Absolute Error: 17224.27947078339\n"
     ]
    },
    {
     "data": {
      "application/javascript": [
       "parent.postMessage({\"jupyterEvent\": \"custom.exercise_interaction\", \"data\": {\"outcomeType\": 1, \"valueTowardsCompletion\": 0.5, \"interactionType\": 1, \"questionType\": 2, \"questionId\": \"2_Model2\", \"learnToolsVersion\": \"0.3.4\", \"failureMessage\": \"\", \"exceptionClass\": \"\", \"trace\": \"\"}}, \"*\")"
      ],
      "text/plain": [
       "<IPython.core.display.Javascript object>"
      ]
     },
     "metadata": {},
     "output_type": "display_data"
    },
    {
     "data": {
      "text/markdown": [
       "<span style=\"color:#33cc33\">Correct</span>"
      ],
      "text/plain": [
       "Correct"
      ]
     },
     "metadata": {},
     "output_type": "display_data"
    }
   ],
   "source": [
    "# Define the model\n",
    "my_model_2 = XGBRegressor(n_estimators=1000, learning_rate=0.05)\n",
    "\n",
    "# Fit the model\n",
    "my_model_2.fit(X_train, y_train)\n",
    "\n",
    "# Get predictions\n",
    "predictions_2 = my_model_2.predict(X_valid)\n",
    "\n",
    "# Calculate MAE\n",
    "mae_2 = mean_absolute_error(predictions_2, y_valid)\n",
    "\n",
    "# Uncomment to print MAE\n",
    "print(\"Mean Absolute Error:\" , mae_2)\n",
    "\n",
    "# Check your answer\n",
    "step_2.check()"
   ]
  },
  {
   "cell_type": "code",
   "execution_count": 10,
   "id": "3a57b51b",
   "metadata": {
    "execution": {
     "iopub.execute_input": "2024-01-05T11:20:23.480947Z",
     "iopub.status.busy": "2024-01-05T11:20:23.480365Z",
     "iopub.status.idle": "2024-01-05T11:20:23.484005Z",
     "shell.execute_reply": "2024-01-05T11:20:23.482988Z"
    },
    "papermill": {
     "duration": 0.012395,
     "end_time": "2024-01-05T11:20:23.485867",
     "exception": false,
     "start_time": "2024-01-05T11:20:23.473472",
     "status": "completed"
    },
    "tags": []
   },
   "outputs": [],
   "source": [
    "# Lines below will give you a hint or solution code\n",
    "#step_2.hint()\n",
    "#step_2.solution()"
   ]
  },
  {
   "cell_type": "markdown",
   "id": "4546d7d5",
   "metadata": {
    "papermill": {
     "duration": 0.005162,
     "end_time": "2024-01-05T11:20:23.497199",
     "exception": false,
     "start_time": "2024-01-05T11:20:23.492037",
     "status": "completed"
    },
    "tags": []
   },
   "source": [
    "# Step 3: Break the model\n",
    "\n",
    "In this step, you will create a model that performs worse than the original model in Step 1.  This will help you to develop your intuition for how to set parameters.  You might even find that you accidentally get better performance, which is ultimately a nice problem to have and a valuable learning experience!\n",
    "- Begin by setting `my_model_3` to an XGBoost model, using the [XGBRegressor](https://xgboost.readthedocs.io/en/latest/python/python_api.html#xgboost.XGBRegressor) class.  Use what you learned in the previous tutorial to figure out how to change the default parameters (like `n_estimators` and `learning_rate`) to design a model to get high MAE.\n",
    "- Then, fit the model to the training data in `X_train` and `y_train`.\n",
    "- Set `predictions_3` to the model's predictions for the validation data.  Recall that the validation features are stored in `X_valid`.\n",
    "- Finally, use the `mean_absolute_error()` function to calculate the mean absolute error (MAE) corresponding to the predictions on the validation set.  Recall that the labels for the validation data are stored in `y_valid`.\n",
    "\n",
    "In order for this step to be marked correct, your model in `my_model_3` must attain higher MAE than the model in `my_model_1`. "
   ]
  },
  {
   "cell_type": "code",
   "execution_count": 11,
   "id": "7fe7a4fe",
   "metadata": {
    "execution": {
     "iopub.execute_input": "2024-01-05T11:20:23.509483Z",
     "iopub.status.busy": "2024-01-05T11:20:23.509091Z",
     "iopub.status.idle": "2024-01-05T11:20:23.618838Z",
     "shell.execute_reply": "2024-01-05T11:20:23.617730Z"
    },
    "papermill": {
     "duration": 0.118859,
     "end_time": "2024-01-05T11:20:23.621315",
     "exception": false,
     "start_time": "2024-01-05T11:20:23.502456",
     "status": "completed"
    },
    "tags": []
   },
   "outputs": [
    {
     "name": "stdout",
     "output_type": "stream",
     "text": [
      "Mean Absolute Error: 42678.815550085616\n"
     ]
    },
    {
     "data": {
      "application/javascript": [
       "parent.postMessage({\"jupyterEvent\": \"custom.exercise_interaction\", \"data\": {\"outcomeType\": 1, \"valueTowardsCompletion\": 0.5, \"interactionType\": 1, \"questionType\": 2, \"questionId\": \"3_Model3\", \"learnToolsVersion\": \"0.3.4\", \"failureMessage\": \"\", \"exceptionClass\": \"\", \"trace\": \"\"}}, \"*\")"
      ],
      "text/plain": [
       "<IPython.core.display.Javascript object>"
      ]
     },
     "metadata": {},
     "output_type": "display_data"
    },
    {
     "data": {
      "text/markdown": [
       "<span style=\"color:#33cc33\">Correct</span>"
      ],
      "text/plain": [
       "Correct"
      ]
     },
     "metadata": {},
     "output_type": "display_data"
    }
   ],
   "source": [
    "# Define the model\n",
    "my_model_3 = XGBRegressor(n_estimators=1)\n",
    "\n",
    "# Fit the model\n",
    "my_model_3.fit(X_train, y_train)\n",
    "\n",
    "# Get predictions\n",
    "predictions_3 = my_model_3.predict(X_valid)\n",
    "\n",
    "# Calculate MAE\n",
    "mae_3 = mean_absolute_error(predictions_3, y_valid)\n",
    "\n",
    "# Uncomment to print MAE\n",
    "print(\"Mean Absolute Error:\" , mae_3)\n",
    "\n",
    "# Check your answer\n",
    "step_3.check()"
   ]
  },
  {
   "cell_type": "code",
   "execution_count": 12,
   "id": "5be8d869",
   "metadata": {
    "execution": {
     "iopub.execute_input": "2024-01-05T11:20:23.636046Z",
     "iopub.status.busy": "2024-01-05T11:20:23.635638Z",
     "iopub.status.idle": "2024-01-05T11:20:23.639879Z",
     "shell.execute_reply": "2024-01-05T11:20:23.638877Z"
    },
    "papermill": {
     "duration": 0.013869,
     "end_time": "2024-01-05T11:20:23.641682",
     "exception": false,
     "start_time": "2024-01-05T11:20:23.627813",
     "status": "completed"
    },
    "tags": []
   },
   "outputs": [],
   "source": [
    "# Lines below will give you a hint or solution code\n",
    "#step_3.hint()\n",
    "#step_3.solution()"
   ]
  },
  {
   "cell_type": "markdown",
   "id": "a81a958d",
   "metadata": {
    "papermill": {
     "duration": 0.005467,
     "end_time": "2024-01-05T11:20:23.653052",
     "exception": false,
     "start_time": "2024-01-05T11:20:23.647585",
     "status": "completed"
    },
    "tags": []
   },
   "source": [
    "# Keep going\n",
    "\n",
    "Continue to learn about **[data leakage](https://www.kaggle.com/alexisbcook/data-leakage)**.  This is an important issue for a data scientist to understand, and it has the potential to ruin your models in subtle and dangerous ways!"
   ]
  },
  {
   "cell_type": "markdown",
   "id": "ece6e6fd",
   "metadata": {
    "papermill": {
     "duration": 0.005556,
     "end_time": "2024-01-05T11:20:23.664242",
     "exception": false,
     "start_time": "2024-01-05T11:20:23.658686",
     "status": "completed"
    },
    "tags": []
   },
   "source": [
    "---\n",
    "\n",
    "\n",
    "\n",
    "\n",
    "*Have questions or comments? Visit the [course discussion forum](https://www.kaggle.com/learn/intermediate-machine-learning/discussion) to chat with other learners.*"
   ]
  }
 ],
 "metadata": {
  "kaggle": {
   "accelerator": "none",
   "dataSources": [
    {
     "databundleVersionId": 111096,
     "sourceId": 10211,
     "sourceType": "competition"
    }
   ],
   "isGpuEnabled": false,
   "isInternetEnabled": false,
   "language": "python",
   "sourceType": "notebook"
  },
  "kernelspec": {
   "display_name": "Python 3",
   "language": "python",
   "name": "python3"
  },
  "language_info": {
   "codemirror_mode": {
    "name": "ipython",
    "version": 3
   },
   "file_extension": ".py",
   "mimetype": "text/x-python",
   "name": "python",
   "nbconvert_exporter": "python",
   "pygments_lexer": "ipython3",
   "version": "3.10.12"
  },
  "papermill": {
   "default_parameters": {},
   "duration": 9.306267,
   "end_time": "2024-01-05T11:20:24.188300",
   "environment_variables": {},
   "exception": null,
   "input_path": "__notebook__.ipynb",
   "output_path": "__notebook__.ipynb",
   "parameters": {},
   "start_time": "2024-01-05T11:20:14.882033",
   "version": "2.4.0"
  }
 },
 "nbformat": 4,
 "nbformat_minor": 5
}
