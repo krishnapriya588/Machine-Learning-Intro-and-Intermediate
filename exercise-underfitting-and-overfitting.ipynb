{
 "cells": [
  {
   "cell_type": "markdown",
   "id": "f2760b26",
   "metadata": {
    "papermill": {
     "duration": 0.003454,
     "end_time": "2024-01-05T11:04:20.272320",
     "exception": false,
     "start_time": "2024-01-05T11:04:20.268866",
     "status": "completed"
    },
    "tags": []
   },
   "source": [
    "**This notebook is an exercise in the [Introduction to Machine Learning](https://www.kaggle.com/learn/intro-to-machine-learning) course.  You can reference the tutorial at [this link](https://www.kaggle.com/dansbecker/underfitting-and-overfitting).**\n",
    "\n",
    "---\n"
   ]
  },
  {
   "cell_type": "markdown",
   "id": "a520c602",
   "metadata": {
    "papermill": {
     "duration": 0.002757,
     "end_time": "2024-01-05T11:04:20.278269",
     "exception": false,
     "start_time": "2024-01-05T11:04:20.275512",
     "status": "completed"
    },
    "tags": []
   },
   "source": [
    "## Recap\n",
    "You've built your first model, and now it's time to optimize the size of the tree to make better predictions. Run this cell to set up your coding environment where the previous step left off."
   ]
  },
  {
   "cell_type": "code",
   "execution_count": 1,
   "id": "54222b85",
   "metadata": {
    "execution": {
     "iopub.execute_input": "2024-01-05T11:04:20.285971Z",
     "iopub.status.busy": "2024-01-05T11:04:20.285600Z",
     "iopub.status.idle": "2024-01-05T11:04:22.009835Z",
     "shell.execute_reply": "2024-01-05T11:04:22.004667Z"
    },
    "papermill": {
     "duration": 1.730942,
     "end_time": "2024-01-05T11:04:22.012123",
     "exception": false,
     "start_time": "2024-01-05T11:04:20.281181",
     "status": "completed"
    },
    "tags": []
   },
   "outputs": [
    {
     "name": "stdout",
     "output_type": "stream",
     "text": [
      "Validation MAE: 29,653\n",
      "\n",
      "Setup complete\n"
     ]
    }
   ],
   "source": [
    "# Code you have previously used to load data\n",
    "import pandas as pd\n",
    "from sklearn.metrics import mean_absolute_error\n",
    "from sklearn.model_selection import train_test_split\n",
    "from sklearn.tree import DecisionTreeRegressor\n",
    "\n",
    "\n",
    "# Path of the file to read\n",
    "iowa_file_path = '../input/home-data-for-ml-course/train.csv'\n",
    "\n",
    "home_data = pd.read_csv(iowa_file_path)\n",
    "# Create target object and call it y\n",
    "y = home_data.SalePrice\n",
    "# Create X\n",
    "features = ['LotArea', 'YearBuilt', '1stFlrSF', '2ndFlrSF', 'FullBath', 'BedroomAbvGr', 'TotRmsAbvGrd']\n",
    "X = home_data[features]\n",
    "\n",
    "# Split into validation and training data\n",
    "train_X, val_X, train_y, val_y = train_test_split(X, y, random_state=1)\n",
    "\n",
    "# Specify Model\n",
    "iowa_model = DecisionTreeRegressor(random_state=1)\n",
    "# Fit Model\n",
    "iowa_model.fit(train_X, train_y)\n",
    "\n",
    "# Make validation predictions and calculate mean absolute error\n",
    "val_predictions = iowa_model.predict(val_X)\n",
    "val_mae = mean_absolute_error(val_predictions, val_y)\n",
    "print(\"Validation MAE: {:,.0f}\".format(val_mae))\n",
    "\n",
    "# Set up code checking\n",
    "from learntools.core import binder\n",
    "binder.bind(globals())\n",
    "from learntools.machine_learning.ex5 import *\n",
    "print(\"\\nSetup complete\")"
   ]
  },
  {
   "cell_type": "markdown",
   "id": "91d27b03",
   "metadata": {
    "papermill": {
     "duration": 0.002718,
     "end_time": "2024-01-05T11:04:22.018232",
     "exception": false,
     "start_time": "2024-01-05T11:04:22.015514",
     "status": "completed"
    },
    "tags": []
   },
   "source": [
    "# Exercises\n",
    "You could write the function `get_mae` yourself. For now, we'll supply it. This is the same function you read about in the previous lesson. Just run the cell below."
   ]
  },
  {
   "cell_type": "code",
   "execution_count": 2,
   "id": "aaad4102",
   "metadata": {
    "execution": {
     "iopub.execute_input": "2024-01-05T11:04:22.025299Z",
     "iopub.status.busy": "2024-01-05T11:04:22.024974Z",
     "iopub.status.idle": "2024-01-05T11:04:22.031120Z",
     "shell.execute_reply": "2024-01-05T11:04:22.030203Z"
    },
    "papermill": {
     "duration": 0.012056,
     "end_time": "2024-01-05T11:04:22.033138",
     "exception": false,
     "start_time": "2024-01-05T11:04:22.021082",
     "status": "completed"
    },
    "tags": []
   },
   "outputs": [],
   "source": [
    "def get_mae(max_leaf_nodes, train_X, val_X, train_y, val_y):\n",
    "    model = DecisionTreeRegressor(max_leaf_nodes=max_leaf_nodes, random_state=0)\n",
    "    model.fit(train_X, train_y)\n",
    "    preds_val = model.predict(val_X)\n",
    "    mae = mean_absolute_error(val_y, preds_val)\n",
    "    return(mae)"
   ]
  },
  {
   "cell_type": "markdown",
   "id": "aec713c1",
   "metadata": {
    "papermill": {
     "duration": 0.002702,
     "end_time": "2024-01-05T11:04:22.039452",
     "exception": false,
     "start_time": "2024-01-05T11:04:22.036750",
     "status": "completed"
    },
    "tags": []
   },
   "source": [
    "## Step 1: Compare Different Tree Sizes\n",
    "Write a loop that tries the following values for *max_leaf_nodes* from a set of possible values.\n",
    "\n",
    "Call the *get_mae* function on each value of max_leaf_nodes. Store the output in some way that allows you to select the value of `max_leaf_nodes` that gives the most accurate model on your data."
   ]
  },
  {
   "cell_type": "code",
   "execution_count": 3,
   "id": "9a974e1a",
   "metadata": {
    "execution": {
     "iopub.execute_input": "2024-01-05T11:04:22.047362Z",
     "iopub.status.busy": "2024-01-05T11:04:22.046553Z",
     "iopub.status.idle": "2024-01-05T11:04:22.089302Z",
     "shell.execute_reply": "2024-01-05T11:04:22.088301Z"
    },
    "papermill": {
     "duration": 0.049183,
     "end_time": "2024-01-05T11:04:22.091554",
     "exception": false,
     "start_time": "2024-01-05T11:04:22.042371",
     "status": "completed"
    },
    "tags": []
   },
   "outputs": [
    {
     "data": {
      "application/javascript": [
       "parent.postMessage({\"jupyterEvent\": \"custom.exercise_interaction\", \"data\": {\"outcomeType\": 1, \"valueTowardsCompletion\": 0.5, \"interactionType\": 1, \"questionType\": 1, \"questionId\": \"1_BestTreeSize\", \"learnToolsVersion\": \"0.3.4\", \"failureMessage\": \"\", \"exceptionClass\": \"\", \"trace\": \"\"}}, \"*\")"
      ],
      "text/plain": [
       "<IPython.core.display.Javascript object>"
      ]
     },
     "metadata": {},
     "output_type": "display_data"
    },
    {
     "data": {
      "text/markdown": [
       "<span style=\"color:#33cc33\">Correct</span>"
      ],
      "text/plain": [
       "Correct"
      ]
     },
     "metadata": {},
     "output_type": "display_data"
    }
   ],
   "source": [
    "candidate_max_leaf_nodes = [5, 25, 50, 100, 250, 500]\n",
    "# Write loop to find the ideal tree size from candidate_max_leaf_nodes\n",
    "_\n",
    "\n",
    "# Store the best value of max_leaf_nodes (it will be either 5, 25, 50, 100, 250 or 500)\n",
    "scores = {leaf_size: get_mae(leaf_size, train_X, val_X, train_y, val_y) for leaf_size in candidate_max_leaf_nodes}\n",
    "best_tree_size = min(scores, key=scores.get)\n",
    "\n",
    "# Check your answer\n",
    "step_1.check()\n"
   ]
  },
  {
   "cell_type": "code",
   "execution_count": 4,
   "id": "6d2e0cf7",
   "metadata": {
    "execution": {
     "iopub.execute_input": "2024-01-05T11:04:22.100309Z",
     "iopub.status.busy": "2024-01-05T11:04:22.099937Z",
     "iopub.status.idle": "2024-01-05T11:04:22.103835Z",
     "shell.execute_reply": "2024-01-05T11:04:22.103209Z"
    },
    "papermill": {
     "duration": 0.010132,
     "end_time": "2024-01-05T11:04:22.105466",
     "exception": false,
     "start_time": "2024-01-05T11:04:22.095334",
     "status": "completed"
    },
    "tags": []
   },
   "outputs": [],
   "source": [
    "# The lines below will show you a hint or the solution.\n",
    "# step_1.hint() \n",
    "# step_1.solution()"
   ]
  },
  {
   "cell_type": "markdown",
   "id": "2cde0bc2",
   "metadata": {
    "papermill": {
     "duration": 0.003096,
     "end_time": "2024-01-05T11:04:22.112149",
     "exception": false,
     "start_time": "2024-01-05T11:04:22.109053",
     "status": "completed"
    },
    "tags": []
   },
   "source": [
    "## Step 2: Fit Model Using All Data\n",
    "You know the best tree size. If you were going to deploy this model in practice, you would make it even more accurate by using all of the data and keeping that tree size.  That is, you don't need to hold out the validation data now that you've made all your modeling decisions."
   ]
  },
  {
   "cell_type": "code",
   "execution_count": 5,
   "id": "18e99f6a",
   "metadata": {
    "execution": {
     "iopub.execute_input": "2024-01-05T11:04:22.120608Z",
     "iopub.status.busy": "2024-01-05T11:04:22.119723Z",
     "iopub.status.idle": "2024-01-05T11:04:22.136163Z",
     "shell.execute_reply": "2024-01-05T11:04:22.134684Z"
    },
    "papermill": {
     "duration": 0.02313,
     "end_time": "2024-01-05T11:04:22.138466",
     "exception": false,
     "start_time": "2024-01-05T11:04:22.115336",
     "status": "completed"
    },
    "tags": []
   },
   "outputs": [
    {
     "data": {
      "application/javascript": [
       "parent.postMessage({\"jupyterEvent\": \"custom.exercise_interaction\", \"data\": {\"outcomeType\": 1, \"valueTowardsCompletion\": 0.5, \"interactionType\": 1, \"questionType\": 2, \"questionId\": \"2_FitModelWithAllData\", \"learnToolsVersion\": \"0.3.4\", \"failureMessage\": \"\", \"exceptionClass\": \"\", \"trace\": \"\"}}, \"*\")"
      ],
      "text/plain": [
       "<IPython.core.display.Javascript object>"
      ]
     },
     "metadata": {},
     "output_type": "display_data"
    },
    {
     "data": {
      "text/markdown": [
       "<span style=\"color:#33cc33\">Correct</span>"
      ],
      "text/plain": [
       "Correct"
      ]
     },
     "metadata": {},
     "output_type": "display_data"
    }
   ],
   "source": [
    "# Fill in argument to make optimal size and uncomment\n",
    "final_model = DecisionTreeRegressor(max_leaf_nodes=best_tree_size, random_state=1)\n",
    "\n",
    "# fit the final model and uncomment the next two lines\n",
    "final_model.fit(X,y)\n",
    "\n",
    "# Check your answer\n",
    "step_2.check()"
   ]
  },
  {
   "cell_type": "code",
   "execution_count": 6,
   "id": "ed252170",
   "metadata": {
    "execution": {
     "iopub.execute_input": "2024-01-05T11:04:22.147483Z",
     "iopub.status.busy": "2024-01-05T11:04:22.147147Z",
     "iopub.status.idle": "2024-01-05T11:04:22.150505Z",
     "shell.execute_reply": "2024-01-05T11:04:22.149783Z"
    },
    "papermill": {
     "duration": 0.00996,
     "end_time": "2024-01-05T11:04:22.152221",
     "exception": false,
     "start_time": "2024-01-05T11:04:22.142261",
     "status": "completed"
    },
    "tags": []
   },
   "outputs": [],
   "source": [
    "# step_2.hint()\n",
    "# step_2.solution()"
   ]
  },
  {
   "cell_type": "markdown",
   "id": "6d969270",
   "metadata": {
    "papermill": {
     "duration": 0.003999,
     "end_time": "2024-01-05T11:04:22.161055",
     "exception": false,
     "start_time": "2024-01-05T11:04:22.157056",
     "status": "completed"
    },
    "tags": []
   },
   "source": [
    "You've tuned this model and improved your results. But we are still using Decision Tree models, which are not very sophisticated by modern machine learning standards. In the next step you will learn to use Random Forests to improve your models even more.\n",
    "\n",
    "# Keep Going\n",
    "\n",
    "You are ready for **[Random Forests](https://www.kaggle.com/dansbecker/random-forests).**\n"
   ]
  },
  {
   "cell_type": "markdown",
   "id": "f4b795f0",
   "metadata": {
    "papermill": {
     "duration": 0.003201,
     "end_time": "2024-01-05T11:04:22.167867",
     "exception": false,
     "start_time": "2024-01-05T11:04:22.164666",
     "status": "completed"
    },
    "tags": []
   },
   "source": [
    "---\n",
    "\n",
    "\n",
    "\n",
    "\n",
    "*Have questions or comments? Visit the [course discussion forum](https://www.kaggle.com/learn/intro-to-machine-learning/discussion) to chat with other learners.*"
   ]
  }
 ],
 "metadata": {
  "kaggle": {
   "accelerator": "none",
   "dataSources": [
    {
     "databundleVersionId": 111096,
     "sourceId": 10211,
     "sourceType": "competition"
    },
    {
     "datasetId": 11167,
     "sourceId": 15520,
     "sourceType": "datasetVersion"
    },
    {
     "datasetId": 2709,
     "sourceId": 38454,
     "sourceType": "datasetVersion"
    }
   ],
   "isGpuEnabled": false,
   "isInternetEnabled": false,
   "language": "python",
   "sourceType": "notebook"
  },
  "kernelspec": {
   "display_name": "Python 3",
   "language": "python",
   "name": "python3"
  },
  "language_info": {
   "codemirror_mode": {
    "name": "ipython",
    "version": 3
   },
   "file_extension": ".py",
   "mimetype": "text/x-python",
   "name": "python",
   "nbconvert_exporter": "python",
   "pygments_lexer": "ipython3",
   "version": "3.10.12"
  },
  "papermill": {
   "default_parameters": {},
   "duration": 4.926657,
   "end_time": "2024-01-05T11:04:22.691633",
   "environment_variables": {},
   "exception": null,
   "input_path": "__notebook__.ipynb",
   "output_path": "__notebook__.ipynb",
   "parameters": {},
   "start_time": "2024-01-05T11:04:17.764976",
   "version": "2.4.0"
  }
 },
 "nbformat": 4,
 "nbformat_minor": 5
}
