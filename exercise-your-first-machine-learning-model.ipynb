{
 "cells": [
  {
   "cell_type": "markdown",
   "id": "70ae69b8",
   "metadata": {
    "papermill": {
     "duration": 0.007549,
     "end_time": "2024-01-05T11:01:43.723691",
     "exception": false,
     "start_time": "2024-01-05T11:01:43.716142",
     "status": "completed"
    },
    "tags": []
   },
   "source": [
    "**This notebook is an exercise in the [Introduction to Machine Learning](https://www.kaggle.com/learn/intro-to-machine-learning) course.  You can reference the tutorial at [this link](https://www.kaggle.com/dansbecker/your-first-machine-learning-model).**\n",
    "\n",
    "---\n"
   ]
  },
  {
   "cell_type": "markdown",
   "id": "9e8542d6",
   "metadata": {
    "papermill": {
     "duration": 0.006794,
     "end_time": "2024-01-05T11:01:43.737511",
     "exception": false,
     "start_time": "2024-01-05T11:01:43.730717",
     "status": "completed"
    },
    "tags": []
   },
   "source": [
    "## Recap\n",
    "So far, you have loaded your data and reviewed it with the following code. Run this cell to set up your coding environment where the previous step left off."
   ]
  },
  {
   "cell_type": "code",
   "execution_count": 1,
   "id": "d7ad0e2f",
   "metadata": {
    "execution": {
     "iopub.execute_input": "2024-01-05T11:01:43.754207Z",
     "iopub.status.busy": "2024-01-05T11:01:43.753333Z",
     "iopub.status.idle": "2024-01-05T11:01:45.886781Z",
     "shell.execute_reply": "2024-01-05T11:01:45.885225Z"
    },
    "papermill": {
     "duration": 2.144821,
     "end_time": "2024-01-05T11:01:45.889478",
     "exception": false,
     "start_time": "2024-01-05T11:01:43.744657",
     "status": "completed"
    },
    "tags": []
   },
   "outputs": [
    {
     "name": "stdout",
     "output_type": "stream",
     "text": [
      "Setup Complete\n"
     ]
    }
   ],
   "source": [
    "# Code you have previously used to load data\n",
    "import pandas as pd\n",
    "\n",
    "# Path of the file to read\n",
    "iowa_file_path = '../input/home-data-for-ml-course/train.csv'\n",
    "\n",
    "home_data = pd.read_csv(iowa_file_path)\n",
    "\n",
    "# Set up code checking\n",
    "from learntools.core import binder\n",
    "binder.bind(globals())\n",
    "from learntools.machine_learning.ex3 import *\n",
    "\n",
    "print(\"Setup Complete\")"
   ]
  },
  {
   "cell_type": "markdown",
   "id": "61e9de8e",
   "metadata": {
    "papermill": {
     "duration": 0.006766,
     "end_time": "2024-01-05T11:01:45.903325",
     "exception": false,
     "start_time": "2024-01-05T11:01:45.896559",
     "status": "completed"
    },
    "tags": []
   },
   "source": [
    "# Exercises\n",
    "\n",
    "## Step 1: Specify Prediction Target\n",
    "Select the target variable, which corresponds to the sales price. Save this to a new variable called `y`. You'll need to print a list of the columns to find the name of the column you need.\n"
   ]
  },
  {
   "cell_type": "code",
   "execution_count": 2,
   "id": "72d97761",
   "metadata": {
    "collapsed": true,
    "execution": {
     "iopub.execute_input": "2024-01-05T11:01:45.920339Z",
     "iopub.status.busy": "2024-01-05T11:01:45.919597Z",
     "iopub.status.idle": "2024-01-05T11:01:45.924195Z",
     "shell.execute_reply": "2024-01-05T11:01:45.923282Z"
    },
    "jupyter": {
     "outputs_hidden": true
    },
    "papermill": {
     "duration": 0.015655,
     "end_time": "2024-01-05T11:01:45.926364",
     "exception": false,
     "start_time": "2024-01-05T11:01:45.910709",
     "status": "completed"
    },
    "tags": []
   },
   "outputs": [],
   "source": [
    "# print the list of columns in the dataset to find the name of the prediction target\n"
   ]
  },
  {
   "cell_type": "code",
   "execution_count": 3,
   "id": "170ea9f4",
   "metadata": {
    "execution": {
     "iopub.execute_input": "2024-01-05T11:01:45.942573Z",
     "iopub.status.busy": "2024-01-05T11:01:45.941757Z",
     "iopub.status.idle": "2024-01-05T11:01:45.958669Z",
     "shell.execute_reply": "2024-01-05T11:01:45.957186Z"
    },
    "papermill": {
     "duration": 0.02784,
     "end_time": "2024-01-05T11:01:45.961296",
     "exception": false,
     "start_time": "2024-01-05T11:01:45.933456",
     "status": "completed"
    },
    "tags": []
   },
   "outputs": [
    {
     "data": {
      "application/javascript": [
       "parent.postMessage({\"jupyterEvent\": \"custom.exercise_interaction\", \"data\": {\"outcomeType\": 1, \"valueTowardsCompletion\": 0.25, \"interactionType\": 1, \"questionType\": 2, \"questionId\": \"1_SetTarget\", \"learnToolsVersion\": \"0.3.4\", \"failureMessage\": \"\", \"exceptionClass\": \"\", \"trace\": \"\"}}, \"*\")"
      ],
      "text/plain": [
       "<IPython.core.display.Javascript object>"
      ]
     },
     "metadata": {},
     "output_type": "display_data"
    },
    {
     "data": {
      "text/markdown": [
       "<span style=\"color:#33cc33\">Correct</span>"
      ],
      "text/plain": [
       "Correct"
      ]
     },
     "metadata": {},
     "output_type": "display_data"
    }
   ],
   "source": [
    "y = home_data.SalePrice\n",
    "\n",
    "# Check your answer\n",
    "step_1.check()"
   ]
  },
  {
   "cell_type": "code",
   "execution_count": 4,
   "id": "c96fd803",
   "metadata": {
    "execution": {
     "iopub.execute_input": "2024-01-05T11:01:45.980635Z",
     "iopub.status.busy": "2024-01-05T11:01:45.979907Z",
     "iopub.status.idle": "2024-01-05T11:01:45.984317Z",
     "shell.execute_reply": "2024-01-05T11:01:45.983315Z"
    },
    "papermill": {
     "duration": 0.016574,
     "end_time": "2024-01-05T11:01:45.986596",
     "exception": false,
     "start_time": "2024-01-05T11:01:45.970022",
     "status": "completed"
    },
    "tags": []
   },
   "outputs": [],
   "source": [
    "# The lines below will show you a hint or the solution.\n",
    "# step_1.hint() \n",
    "# step_1.solution()"
   ]
  },
  {
   "cell_type": "markdown",
   "id": "2a21d42e",
   "metadata": {
    "papermill": {
     "duration": 0.007469,
     "end_time": "2024-01-05T11:01:46.001748",
     "exception": false,
     "start_time": "2024-01-05T11:01:45.994279",
     "status": "completed"
    },
    "tags": []
   },
   "source": [
    "## Step 2: Create X\n",
    "Now you will create a DataFrame called `X` holding the predictive features.\n",
    "\n",
    "Since you want only some columns from the original data, you'll first create a list with the names of the columns you want in `X`.\n",
    "\n",
    "You'll use just the following columns in the list (you can copy and paste the whole list to save some typing, though you'll still need to add quotes):\n",
    "  * LotArea\n",
    "  * YearBuilt\n",
    "  * 1stFlrSF\n",
    "  * 2ndFlrSF\n",
    "  * FullBath\n",
    "  * BedroomAbvGr\n",
    "  * TotRmsAbvGrd\n",
    "\n",
    "After you've created that list of features, use it to create the DataFrame that you'll use to fit the model."
   ]
  },
  {
   "cell_type": "code",
   "execution_count": 5,
   "id": "956689e7",
   "metadata": {
    "execution": {
     "iopub.execute_input": "2024-01-05T11:01:46.019995Z",
     "iopub.status.busy": "2024-01-05T11:01:46.018477Z",
     "iopub.status.idle": "2024-01-05T11:01:46.036674Z",
     "shell.execute_reply": "2024-01-05T11:01:46.035462Z"
    },
    "papermill": {
     "duration": 0.029633,
     "end_time": "2024-01-05T11:01:46.039041",
     "exception": false,
     "start_time": "2024-01-05T11:01:46.009408",
     "status": "completed"
    },
    "tags": []
   },
   "outputs": [
    {
     "data": {
      "application/javascript": [
       "parent.postMessage({\"jupyterEvent\": \"custom.exercise_interaction\", \"data\": {\"outcomeType\": 1, \"valueTowardsCompletion\": 0.25, \"interactionType\": 1, \"questionType\": 2, \"questionId\": \"2_SelectPredictionData\", \"learnToolsVersion\": \"0.3.4\", \"failureMessage\": \"\", \"exceptionClass\": \"\", \"trace\": \"\"}}, \"*\")"
      ],
      "text/plain": [
       "<IPython.core.display.Javascript object>"
      ]
     },
     "metadata": {},
     "output_type": "display_data"
    },
    {
     "data": {
      "text/markdown": [
       "<span style=\"color:#33cc33\">Correct</span>"
      ],
      "text/plain": [
       "Correct"
      ]
     },
     "metadata": {},
     "output_type": "display_data"
    }
   ],
   "source": [
    "# Create the list of features below\n",
    "feature_names = [\"LotArea\", \"YearBuilt\", \"1stFlrSF\", \"2ndFlrSF\",\n",
    "                      \"FullBath\", \"BedroomAbvGr\", \"TotRmsAbvGrd\"]\n",
    "\n",
    "\n",
    "# Select data corresponding to features in feature_names\n",
    "X = home_data[feature_names]\n",
    "\n",
    "# Check your answer\n",
    "step_2.check()"
   ]
  },
  {
   "cell_type": "code",
   "execution_count": 6,
   "id": "20806f44",
   "metadata": {
    "execution": {
     "iopub.execute_input": "2024-01-05T11:01:46.056257Z",
     "iopub.status.busy": "2024-01-05T11:01:46.055839Z",
     "iopub.status.idle": "2024-01-05T11:01:46.060288Z",
     "shell.execute_reply": "2024-01-05T11:01:46.059144Z"
    },
    "papermill": {
     "duration": 0.016033,
     "end_time": "2024-01-05T11:01:46.062725",
     "exception": false,
     "start_time": "2024-01-05T11:01:46.046692",
     "status": "completed"
    },
    "tags": []
   },
   "outputs": [],
   "source": [
    "# step_2.hint()\n",
    "# step_2.solution()"
   ]
  },
  {
   "cell_type": "markdown",
   "id": "74818b8b",
   "metadata": {
    "papermill": {
     "duration": 0.007608,
     "end_time": "2024-01-05T11:01:46.078130",
     "exception": false,
     "start_time": "2024-01-05T11:01:46.070522",
     "status": "completed"
    },
    "tags": []
   },
   "source": [
    "## Review Data\n",
    "Before building a model, take a quick look at **X** to verify it looks sensible"
   ]
  },
  {
   "cell_type": "code",
   "execution_count": 7,
   "id": "4917504f",
   "metadata": {
    "execution": {
     "iopub.execute_input": "2024-01-05T11:01:46.095485Z",
     "iopub.status.busy": "2024-01-05T11:01:46.095041Z",
     "iopub.status.idle": "2024-01-05T11:01:46.100236Z",
     "shell.execute_reply": "2024-01-05T11:01:46.099004Z"
    },
    "papermill": {
     "duration": 0.016918,
     "end_time": "2024-01-05T11:01:46.102916",
     "exception": false,
     "start_time": "2024-01-05T11:01:46.085998",
     "status": "completed"
    },
    "tags": []
   },
   "outputs": [],
   "source": [
    "# Review data\n",
    "# print description or statistics from X\n",
    "# print(_)\n",
    "\n",
    "# print the top few lines\n",
    "#print(_)"
   ]
  },
  {
   "cell_type": "markdown",
   "id": "d3bab4fb",
   "metadata": {
    "papermill": {
     "duration": 0.007451,
     "end_time": "2024-01-05T11:01:46.118430",
     "exception": false,
     "start_time": "2024-01-05T11:01:46.110979",
     "status": "completed"
    },
    "tags": []
   },
   "source": [
    "## Step 3: Specify and Fit Model\n",
    "Create a `DecisionTreeRegressor` and save it iowa_model. Ensure you've done the relevant import from sklearn to run this command.\n",
    "\n",
    "Then fit the model you just created using the data in `X` and `y` that you saved above."
   ]
  },
  {
   "cell_type": "code",
   "execution_count": 8,
   "id": "0f7fba4a",
   "metadata": {
    "execution": {
     "iopub.execute_input": "2024-01-05T11:01:46.136582Z",
     "iopub.status.busy": "2024-01-05T11:01:46.136153Z",
     "iopub.status.idle": "2024-01-05T11:01:46.158038Z",
     "shell.execute_reply": "2024-01-05T11:01:46.156997Z"
    },
    "papermill": {
     "duration": 0.033321,
     "end_time": "2024-01-05T11:01:46.160159",
     "exception": false,
     "start_time": "2024-01-05T11:01:46.126838",
     "status": "completed"
    },
    "tags": []
   },
   "outputs": [
    {
     "data": {
      "application/javascript": [
       "parent.postMessage({\"jupyterEvent\": \"custom.exercise_interaction\", \"data\": {\"outcomeType\": 1, \"valueTowardsCompletion\": 0.25, \"interactionType\": 1, \"questionType\": 2, \"questionId\": \"3_CreateModel\", \"learnToolsVersion\": \"0.3.4\", \"failureMessage\": \"\", \"exceptionClass\": \"\", \"trace\": \"\"}}, \"*\")"
      ],
      "text/plain": [
       "<IPython.core.display.Javascript object>"
      ]
     },
     "metadata": {},
     "output_type": "display_data"
    },
    {
     "data": {
      "text/markdown": [
       "<span style=\"color:#33cc33\">Correct</span>"
      ],
      "text/plain": [
       "Correct"
      ]
     },
     "metadata": {},
     "output_type": "display_data"
    }
   ],
   "source": [
    "# from _ import _\n",
    "#specify the model. \n",
    "#For model reproducibility, set a numeric value for random_state when specifying the model\n",
    "from sklearn.tree import DecisionTreeRegressor\n",
    "iowa_model = DecisionTreeRegressor(random_state=1)\n",
    "iowa_model.fit(X, y)\n",
    "\n",
    "# Fit the model\n",
    "____\n",
    "\n",
    "# Check your answer\n",
    "step_3.check()"
   ]
  },
  {
   "cell_type": "code",
   "execution_count": 9,
   "id": "5ac4536e",
   "metadata": {
    "execution": {
     "iopub.execute_input": "2024-01-05T11:01:46.178975Z",
     "iopub.status.busy": "2024-01-05T11:01:46.178489Z",
     "iopub.status.idle": "2024-01-05T11:01:46.183903Z",
     "shell.execute_reply": "2024-01-05T11:01:46.182675Z"
    },
    "papermill": {
     "duration": 0.017983,
     "end_time": "2024-01-05T11:01:46.186205",
     "exception": false,
     "start_time": "2024-01-05T11:01:46.168222",
     "status": "completed"
    },
    "tags": []
   },
   "outputs": [],
   "source": [
    "# step_3.hint()\n",
    "# step_3.solution()"
   ]
  },
  {
   "cell_type": "markdown",
   "id": "2d04f98c",
   "metadata": {
    "papermill": {
     "duration": 0.007929,
     "end_time": "2024-01-05T11:01:46.202335",
     "exception": false,
     "start_time": "2024-01-05T11:01:46.194406",
     "status": "completed"
    },
    "tags": []
   },
   "source": [
    "## Step 4: Make Predictions\n",
    "Make predictions with the model's `predict` command using `X` as the data. Save the results to a variable called `predictions`."
   ]
  },
  {
   "cell_type": "code",
   "execution_count": 10,
   "id": "f5af511d",
   "metadata": {
    "execution": {
     "iopub.execute_input": "2024-01-05T11:01:46.220616Z",
     "iopub.status.busy": "2024-01-05T11:01:46.220202Z",
     "iopub.status.idle": "2024-01-05T11:01:46.235671Z",
     "shell.execute_reply": "2024-01-05T11:01:46.234485Z"
    },
    "papermill": {
     "duration": 0.027479,
     "end_time": "2024-01-05T11:01:46.238052",
     "exception": false,
     "start_time": "2024-01-05T11:01:46.210573",
     "status": "completed"
    },
    "tags": []
   },
   "outputs": [
    {
     "name": "stdout",
     "output_type": "stream",
     "text": [
      "[208500. 181500. 223500. ... 266500. 142125. 147500.]\n"
     ]
    },
    {
     "data": {
      "application/javascript": [
       "parent.postMessage({\"jupyterEvent\": \"custom.exercise_interaction\", \"data\": {\"outcomeType\": 1, \"valueTowardsCompletion\": 0.25, \"interactionType\": 1, \"questionType\": 2, \"questionId\": \"4_MakePredictions\", \"learnToolsVersion\": \"0.3.4\", \"failureMessage\": \"\", \"exceptionClass\": \"\", \"trace\": \"\"}}, \"*\")"
      ],
      "text/plain": [
       "<IPython.core.display.Javascript object>"
      ]
     },
     "metadata": {},
     "output_type": "display_data"
    },
    {
     "data": {
      "text/markdown": [
       "<span style=\"color:#33cc33\">Correct</span>"
      ],
      "text/plain": [
       "Correct"
      ]
     },
     "metadata": {},
     "output_type": "display_data"
    }
   ],
   "source": [
    "predictions = iowa_model.predict(X)\n",
    "print(predictions)\n",
    "\n",
    "# Check your answer\n",
    "step_4.check()"
   ]
  },
  {
   "cell_type": "code",
   "execution_count": 11,
   "id": "e77e7a46",
   "metadata": {
    "execution": {
     "iopub.execute_input": "2024-01-05T11:01:46.257212Z",
     "iopub.status.busy": "2024-01-05T11:01:46.256267Z",
     "iopub.status.idle": "2024-01-05T11:01:46.261302Z",
     "shell.execute_reply": "2024-01-05T11:01:46.260336Z"
    },
    "papermill": {
     "duration": 0.017083,
     "end_time": "2024-01-05T11:01:46.263474",
     "exception": false,
     "start_time": "2024-01-05T11:01:46.246391",
     "status": "completed"
    },
    "tags": []
   },
   "outputs": [],
   "source": [
    "# step_4.hint()\n",
    "# step_4.solution()"
   ]
  },
  {
   "cell_type": "markdown",
   "id": "d258bfff",
   "metadata": {
    "papermill": {
     "duration": 0.008315,
     "end_time": "2024-01-05T11:01:46.280360",
     "exception": false,
     "start_time": "2024-01-05T11:01:46.272045",
     "status": "completed"
    },
    "tags": []
   },
   "source": [
    "## Think About Your Results\n",
    "\n",
    "Use the `head` method to compare the top few predictions to the actual home values (in `y`) for those same homes. Anything surprising?\n"
   ]
  },
  {
   "cell_type": "code",
   "execution_count": 12,
   "id": "d0d66a92",
   "metadata": {
    "execution": {
     "iopub.execute_input": "2024-01-05T11:01:46.299376Z",
     "iopub.status.busy": "2024-01-05T11:01:46.298970Z",
     "iopub.status.idle": "2024-01-05T11:01:46.303460Z",
     "shell.execute_reply": "2024-01-05T11:01:46.302277Z"
    },
    "papermill": {
     "duration": 0.017075,
     "end_time": "2024-01-05T11:01:46.305916",
     "exception": false,
     "start_time": "2024-01-05T11:01:46.288841",
     "status": "completed"
    },
    "tags": []
   },
   "outputs": [],
   "source": [
    "# You can write code in this cell\n"
   ]
  },
  {
   "cell_type": "markdown",
   "id": "60dc6e25",
   "metadata": {
    "papermill": {
     "duration": 0.008411,
     "end_time": "2024-01-05T11:01:46.323317",
     "exception": false,
     "start_time": "2024-01-05T11:01:46.314906",
     "status": "completed"
    },
    "tags": []
   },
   "source": [
    "It's natural to ask how accurate the model's predictions will be and how you can improve that. That will be you're next step.\n",
    "\n",
    "# Keep Going\n",
    "\n",
    "You are ready for **[Model Validation](https://www.kaggle.com/dansbecker/model-validation).**\n"
   ]
  },
  {
   "cell_type": "markdown",
   "id": "434355d3",
   "metadata": {
    "papermill": {
     "duration": 0.008283,
     "end_time": "2024-01-05T11:01:46.340478",
     "exception": false,
     "start_time": "2024-01-05T11:01:46.332195",
     "status": "completed"
    },
    "tags": []
   },
   "source": [
    "---\n",
    "\n",
    "\n",
    "\n",
    "\n",
    "*Have questions or comments? Visit the [course discussion forum](https://www.kaggle.com/learn/intro-to-machine-learning/discussion) to chat with other learners.*"
   ]
  }
 ],
 "metadata": {
  "kaggle": {
   "accelerator": "none",
   "dataSources": [
    {
     "databundleVersionId": 111096,
     "sourceId": 10211,
     "sourceType": "competition"
    },
    {
     "datasetId": 11167,
     "sourceId": 15520,
     "sourceType": "datasetVersion"
    },
    {
     "datasetId": 2709,
     "sourceId": 38454,
     "sourceType": "datasetVersion"
    }
   ],
   "isGpuEnabled": false,
   "isInternetEnabled": false,
   "language": "python",
   "sourceType": "notebook"
  },
  "kernelspec": {
   "display_name": "Python 3",
   "language": "python",
   "name": "python3"
  },
  "language_info": {
   "codemirror_mode": {
    "name": "ipython",
    "version": 3
   },
   "file_extension": ".py",
   "mimetype": "text/x-python",
   "name": "python",
   "nbconvert_exporter": "python",
   "pygments_lexer": "ipython3",
   "version": "3.10.12"
  },
  "papermill": {
   "default_parameters": {},
   "duration": 9.550368,
   "end_time": "2024-01-05T11:01:49.656624",
   "environment_variables": {},
   "exception": null,
   "input_path": "__notebook__.ipynb",
   "output_path": "__notebook__.ipynb",
   "parameters": {},
   "start_time": "2024-01-05T11:01:40.106256",
   "version": "2.4.0"
  }
 },
 "nbformat": 4,
 "nbformat_minor": 5
}
