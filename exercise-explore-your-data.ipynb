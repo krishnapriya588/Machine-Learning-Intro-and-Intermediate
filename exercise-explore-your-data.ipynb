{
 "cells": [
  {
   "cell_type": "markdown",
   "id": "89df7aa7",
   "metadata": {
    "papermill": {
     "duration": 0.004821,
     "end_time": "2024-01-05T11:00:08.710982",
     "exception": false,
     "start_time": "2024-01-05T11:00:08.706161",
     "status": "completed"
    },
    "tags": []
   },
   "source": [
    "**[Machine Learning Course Home Page](https://www.kaggle.com/learn/machine-learning)**\n",
    "\n",
    "---\n"
   ]
  },
  {
   "cell_type": "markdown",
   "id": "5ca25a98",
   "metadata": {
    "papermill": {
     "duration": 0.004142,
     "end_time": "2024-01-05T11:00:08.719814",
     "exception": false,
     "start_time": "2024-01-05T11:00:08.715672",
     "status": "completed"
    },
    "tags": []
   },
   "source": [
    "This exercise will test your ability to read a data file and understand statistics about the data.\n",
    "\n",
    "In later exercises, you will apply techniques to filter the data, build a machine learning model, and iteratively improve your model.\n",
    "\n",
    "The course examples use data from Melbourne. To ensure you can apply these techniques on your own, you will have to apply them to a new dataset (with house prices from Iowa).\n",
    "\n",
    "The exercises use a \"notebook\" coding environment.  In case you are unfamiliar with notebooks, we have a [90-second intro video](https://www.youtube.com/watch?v=4C2qMnaIKL4).\n",
    "\n",
    "# Exercises\n",
    "\n",
    "Run the following cell to set up code-checking, which will verify your work as you go."
   ]
  },
  {
   "cell_type": "code",
   "execution_count": 1,
   "id": "23904e09",
   "metadata": {
    "execution": {
     "iopub.execute_input": "2024-01-05T11:00:08.730315Z",
     "iopub.status.busy": "2024-01-05T11:00:08.729868Z",
     "iopub.status.idle": "2024-01-05T11:00:09.225742Z",
     "shell.execute_reply": "2024-01-05T11:00:09.223484Z"
    },
    "papermill": {
     "duration": 0.504367,
     "end_time": "2024-01-05T11:00:09.228520",
     "exception": false,
     "start_time": "2024-01-05T11:00:08.724153",
     "status": "completed"
    },
    "tags": []
   },
   "outputs": [
    {
     "name": "stdout",
     "output_type": "stream",
     "text": [
      "Setup Complete\n"
     ]
    }
   ],
   "source": [
    "# Set up code checking\n",
    "from learntools.core import binder\n",
    "binder.bind(globals())\n",
    "from learntools.machine_learning.ex2 import *\n",
    "print(\"Setup Complete\")"
   ]
  },
  {
   "cell_type": "markdown",
   "id": "d487e967",
   "metadata": {
    "papermill": {
     "duration": 0.004337,
     "end_time": "2024-01-05T11:00:09.237492",
     "exception": false,
     "start_time": "2024-01-05T11:00:09.233155",
     "status": "completed"
    },
    "tags": []
   },
   "source": [
    "## Step 1: Loading Data\n",
    "Read the Iowa data file into a Pandas DataFrame called `home_data`."
   ]
  },
  {
   "cell_type": "code",
   "execution_count": 2,
   "id": "feacf637",
   "metadata": {
    "execution": {
     "iopub.execute_input": "2024-01-05T11:00:09.248554Z",
     "iopub.status.busy": "2024-01-05T11:00:09.247987Z",
     "iopub.status.idle": "2024-01-05T11:00:09.312481Z",
     "shell.execute_reply": "2024-01-05T11:00:09.311350Z"
    },
    "papermill": {
     "duration": 0.073033,
     "end_time": "2024-01-05T11:00:09.315024",
     "exception": false,
     "start_time": "2024-01-05T11:00:09.241991",
     "status": "completed"
    },
    "tags": []
   },
   "outputs": [
    {
     "data": {
      "application/javascript": [
       "parent.postMessage({\"jupyterEvent\": \"custom.exercise_interaction\", \"data\": {\"outcomeType\": 1, \"valueTowardsCompletion\": 0.5, \"interactionType\": 1, \"questionType\": 1, \"questionId\": \"1_LoadHomeData\", \"learnToolsVersion\": \"0.3.4\", \"failureMessage\": \"\", \"exceptionClass\": \"\", \"trace\": \"\"}}, \"*\")"
      ],
      "text/plain": [
       "<IPython.core.display.Javascript object>"
      ]
     },
     "metadata": {},
     "output_type": "display_data"
    },
    {
     "data": {
      "text/markdown": [
       "<span style=\"color:#33cc33\">Correct</span>"
      ],
      "text/plain": [
       "Correct"
      ]
     },
     "metadata": {},
     "output_type": "display_data"
    }
   ],
   "source": [
    "import pandas as pd\n",
    "\n",
    "# Path of the file to read\n",
    "iowa_file_path = '../input/home-data-for-ml-course/train.csv'\n",
    "\n",
    "# Fill in the line below to read the file into a variable home_data\n",
    "home_data = pd.read_csv(iowa_file_path)\n",
    "\n",
    "# Call line below with no argument to check that you've loaded the data correctly\n",
    "step_1.check()"
   ]
  },
  {
   "cell_type": "code",
   "execution_count": 3,
   "id": "6a90dbda",
   "metadata": {
    "execution": {
     "iopub.execute_input": "2024-01-05T11:00:09.327029Z",
     "iopub.status.busy": "2024-01-05T11:00:09.326554Z",
     "iopub.status.idle": "2024-01-05T11:00:09.330883Z",
     "shell.execute_reply": "2024-01-05T11:00:09.330047Z"
    },
    "papermill": {
     "duration": 0.012894,
     "end_time": "2024-01-05T11:00:09.333067",
     "exception": false,
     "start_time": "2024-01-05T11:00:09.320173",
     "status": "completed"
    },
    "tags": []
   },
   "outputs": [],
   "source": [
    "# Lines below will give you a hint or solution code\n",
    "#step_1.hint()\n",
    "#step_1.solution()"
   ]
  },
  {
   "cell_type": "markdown",
   "id": "3ee78d3d",
   "metadata": {
    "papermill": {
     "duration": 0.004768,
     "end_time": "2024-01-05T11:00:09.343129",
     "exception": false,
     "start_time": "2024-01-05T11:00:09.338361",
     "status": "completed"
    },
    "tags": []
   },
   "source": [
    "## Step 2: Review The Data\n",
    "Use the command you learned to view summary statistics of the data. Then fill in variables to answer the following questions"
   ]
  },
  {
   "cell_type": "code",
   "execution_count": 4,
   "id": "f031d61e",
   "metadata": {
    "execution": {
     "iopub.execute_input": "2024-01-05T11:00:09.355461Z",
     "iopub.status.busy": "2024-01-05T11:00:09.354258Z",
     "iopub.status.idle": "2024-01-05T11:00:09.361462Z",
     "shell.execute_reply": "2024-01-05T11:00:09.360363Z"
    },
    "papermill": {
     "duration": 0.015687,
     "end_time": "2024-01-05T11:00:09.363782",
     "exception": false,
     "start_time": "2024-01-05T11:00:09.348095",
     "status": "completed"
    },
    "tags": []
   },
   "outputs": [
    {
     "data": {
      "text/markdown": [],
      "text/plain": [
       "<learntools.core.constants.PlaceholderValue at 0x7b85ac435db0>"
      ]
     },
     "execution_count": 4,
     "metadata": {},
     "output_type": "execute_result"
    }
   ],
   "source": [
    "# Print summary statistics in next line\n",
    "____"
   ]
  },
  {
   "cell_type": "code",
   "execution_count": 5,
   "id": "581ef773",
   "metadata": {
    "execution": {
     "iopub.execute_input": "2024-01-05T11:00:09.376243Z",
     "iopub.status.busy": "2024-01-05T11:00:09.375583Z",
     "iopub.status.idle": "2024-01-05T11:00:09.385315Z",
     "shell.execute_reply": "2024-01-05T11:00:09.384185Z"
    },
    "papermill": {
     "duration": 0.018839,
     "end_time": "2024-01-05T11:00:09.387760",
     "exception": false,
     "start_time": "2024-01-05T11:00:09.368921",
     "status": "completed"
    },
    "tags": []
   },
   "outputs": [
    {
     "data": {
      "application/javascript": [
       "parent.postMessage({\"jupyterEvent\": \"custom.exercise_interaction\", \"data\": {\"outcomeType\": 2, \"failureMessage\": \"Incorrect value for `newest_home_age`: `13`\", \"interactionType\": 1, \"questionType\": 1, \"questionId\": \"2_HomeDescription\", \"learnToolsVersion\": \"0.3.4\", \"valueTowardsCompletion\": 0.0, \"exceptionClass\": \"\", \"trace\": \"\"}}, \"*\")"
      ],
      "text/plain": [
       "<IPython.core.display.Javascript object>"
      ]
     },
     "metadata": {},
     "output_type": "display_data"
    },
    {
     "data": {
      "text/markdown": [
       "<span style=\"color:#cc3333\">Incorrect:</span> Incorrect value for `newest_home_age`: `13`"
      ],
      "text/plain": [
       "Incorrect: Incorrect value for `newest_home_age`: `13`"
      ]
     },
     "metadata": {},
     "output_type": "display_data"
    }
   ],
   "source": [
    "# What is the average lot size (rounded to nearest integer)?\n",
    "avg_lot_size = 10517\n",
    "\n",
    "# As of today, how old is the newest home (current year - the date in which it was built)\n",
    "newest_home_age = 13\n",
    "\n",
    "# Checks your answers\n",
    "step_2.check()"
   ]
  },
  {
   "cell_type": "code",
   "execution_count": 6,
   "id": "8b1aede7",
   "metadata": {
    "execution": {
     "iopub.execute_input": "2024-01-05T11:00:09.400937Z",
     "iopub.status.busy": "2024-01-05T11:00:09.400473Z",
     "iopub.status.idle": "2024-01-05T11:00:09.405085Z",
     "shell.execute_reply": "2024-01-05T11:00:09.403954Z"
    },
    "papermill": {
     "duration": 0.013933,
     "end_time": "2024-01-05T11:00:09.407260",
     "exception": false,
     "start_time": "2024-01-05T11:00:09.393327",
     "status": "completed"
    },
    "tags": []
   },
   "outputs": [],
   "source": [
    "#step_2.hint()\n",
    "#step_2.solution()"
   ]
  },
  {
   "cell_type": "markdown",
   "id": "227d2a8e",
   "metadata": {
    "papermill": {
     "duration": 0.00512,
     "end_time": "2024-01-05T11:00:09.418053",
     "exception": false,
     "start_time": "2024-01-05T11:00:09.412933",
     "status": "completed"
    },
    "tags": []
   },
   "source": [
    "## Think About Your Data\n",
    "\n",
    "The newest house in your data isn't that new.  A few potential explanations for this:\n",
    "1. They haven't built new houses where this data was collected.\n",
    "1. The data was collected a long time ago. Houses built after the data publication wouldn't show up.\n",
    "\n",
    "If the reason is explanation #1 above, does that affect your trust in the model you build with this data? What about if it is reason #2?\n",
    "\n",
    "How could you dig into the data to see which explanation is more plausible?\n",
    "\n",
    "Check out this **[discussion thread](https://www.kaggle.com/learn-forum/60581)** to see what others think or to add your ideas.\n",
    "\n",
    "# Keep Going\n",
    "\n",
    "You are ready for **[Your First Machine Learning Model](https://www.kaggle.com/dansbecker/your-first-machine-learning-model).**\n"
   ]
  },
  {
   "cell_type": "markdown",
   "id": "b789c6de",
   "metadata": {
    "papermill": {
     "duration": 0.005032,
     "end_time": "2024-01-05T11:00:09.428460",
     "exception": false,
     "start_time": "2024-01-05T11:00:09.423428",
     "status": "completed"
    },
    "tags": []
   },
   "source": [
    "---\n",
    "**[Machine Learning Course Home Page](https://www.kaggle.com/learn/machine-learning)**\n",
    "\n"
   ]
  }
 ],
 "metadata": {
  "kaggle": {
   "accelerator": "none",
   "dataSources": [
    {
     "datasetId": 2709,
     "sourceId": 38454,
     "sourceType": "datasetVersion"
    },
    {
     "datasetId": 108980,
     "sourceId": 260251,
     "sourceType": "datasetVersion"
    }
   ],
   "isGpuEnabled": false,
   "isInternetEnabled": false,
   "language": "python",
   "sourceType": "notebook"
  },
  "kernelspec": {
   "display_name": "Python 3",
   "language": "python",
   "name": "python3"
  },
  "language_info": {
   "codemirror_mode": {
    "name": "ipython",
    "version": 3
   },
   "file_extension": ".py",
   "mimetype": "text/x-python",
   "name": "python",
   "nbconvert_exporter": "python",
   "pygments_lexer": "ipython3",
   "version": "3.10.12"
  },
  "papermill": {
   "default_parameters": {},
   "duration": 4.756649,
   "end_time": "2024-01-05T11:00:09.954991",
   "environment_variables": {},
   "exception": null,
   "input_path": "__notebook__.ipynb",
   "output_path": "__notebook__.ipynb",
   "parameters": {},
   "start_time": "2024-01-05T11:00:05.198342",
   "version": "2.4.0"
  }
 },
 "nbformat": 4,
 "nbformat_minor": 5
}
