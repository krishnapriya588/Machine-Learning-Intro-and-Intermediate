{
 "cells": [
  {
   "cell_type": "markdown",
   "id": "fe8d214b",
   "metadata": {
    "papermill": {
     "duration": 0.00501,
     "end_time": "2024-01-05T11:09:55.685605",
     "exception": false,
     "start_time": "2024-01-05T11:09:55.680595",
     "status": "completed"
    },
    "tags": []
   },
   "source": [
    "**This notebook is an exercise in the [Intermediate Machine Learning](https://www.kaggle.com/learn/intermediate-machine-learning) course.  You can reference the tutorial at [this link](https://www.kaggle.com/alexisbcook/introduction).**\n",
    "\n",
    "---\n"
   ]
  },
  {
   "cell_type": "markdown",
   "id": "c1e4c36f",
   "metadata": {
    "papermill": {
     "duration": 0.004007,
     "end_time": "2024-01-05T11:09:55.694057",
     "exception": false,
     "start_time": "2024-01-05T11:09:55.690050",
     "status": "completed"
    },
    "tags": []
   },
   "source": [
    "As a warm-up, you'll review some machine learning fundamentals and submit your initial results to a Kaggle competition.\n",
    "\n",
    "# Setup\n",
    "\n",
    "The questions below will give you feedback on your work. Run the following cell to set up the feedback system."
   ]
  },
  {
   "cell_type": "code",
   "execution_count": 1,
   "id": "fecb494b",
   "metadata": {
    "execution": {
     "iopub.execute_input": "2024-01-05T11:09:55.705562Z",
     "iopub.status.busy": "2024-01-05T11:09:55.704262Z",
     "iopub.status.idle": "2024-01-05T11:09:58.358473Z",
     "shell.execute_reply": "2024-01-05T11:09:58.356095Z"
    },
    "papermill": {
     "duration": 2.662974,
     "end_time": "2024-01-05T11:09:58.361437",
     "exception": false,
     "start_time": "2024-01-05T11:09:55.698463",
     "status": "completed"
    },
    "tags": []
   },
   "outputs": [
    {
     "name": "stdout",
     "output_type": "stream",
     "text": [
      "Setup Complete\n"
     ]
    }
   ],
   "source": [
    "# Set up code checking\n",
    "import os\n",
    "if not os.path.exists(\"../input/train.csv\"):\n",
    "    os.symlink(\"../input/home-data-for-ml-course/train.csv\", \"../input/train.csv\")  \n",
    "    os.symlink(\"../input/home-data-for-ml-course/test.csv\", \"../input/test.csv\")  \n",
    "from learntools.core import binder\n",
    "binder.bind(globals())\n",
    "from learntools.ml_intermediate.ex1 import *\n",
    "print(\"Setup Complete\")"
   ]
  },
  {
   "cell_type": "markdown",
   "id": "11efd791",
   "metadata": {
    "papermill": {
     "duration": 0.005744,
     "end_time": "2024-01-05T11:09:58.372438",
     "exception": false,
     "start_time": "2024-01-05T11:09:58.366694",
     "status": "completed"
    },
    "tags": []
   },
   "source": [
    "You will work with data from the [Housing Prices Competition for Kaggle Learn Users](https://www.kaggle.com/c/home-data-for-ml-course) to predict home prices in Iowa using 79 explanatory variables describing (almost) every aspect of the homes.  \n",
    "\n",
    "![Ames Housing dataset image](https://storage.googleapis.com/kaggle-media/learn/images/lTJVG4e.png)\n",
    "\n",
    "Run the next code cell without changes to load the training and validation features in `X_train` and `X_valid`, along with the prediction targets in `y_train` and `y_valid`.  The test features are loaded in `X_test`.  (_If you need to review **features** and **prediction targets**, please check out [this short tutorial](https://www.kaggle.com/dansbecker/your-first-machine-learning-model).  To read about model **validation**, look [here](https://www.kaggle.com/dansbecker/model-validation).  Alternatively, if you'd prefer to look through a full course to review all of these topics, start [here](https://www.kaggle.com/learn/machine-learning).)_"
   ]
  },
  {
   "cell_type": "code",
   "execution_count": 2,
   "id": "3176794a",
   "metadata": {
    "execution": {
     "iopub.execute_input": "2024-01-05T11:09:58.385832Z",
     "iopub.status.busy": "2024-01-05T11:09:58.384975Z",
     "iopub.status.idle": "2024-01-05T11:09:58.475553Z",
     "shell.execute_reply": "2024-01-05T11:09:58.474099Z"
    },
    "papermill": {
     "duration": 0.100092,
     "end_time": "2024-01-05T11:09:58.478417",
     "exception": false,
     "start_time": "2024-01-05T11:09:58.378325",
     "status": "completed"
    },
    "tags": []
   },
   "outputs": [],
   "source": [
    "import pandas as pd\n",
    "from sklearn.model_selection import train_test_split\n",
    "\n",
    "# Read the data\n",
    "X_full = pd.read_csv('../input/train.csv', index_col='Id')\n",
    "X_test_full = pd.read_csv('../input/test.csv', index_col='Id')\n",
    "\n",
    "# Obtain target and predictors\n",
    "y = X_full.SalePrice\n",
    "features = ['LotArea', 'YearBuilt', '1stFlrSF', '2ndFlrSF', 'FullBath', 'BedroomAbvGr', 'TotRmsAbvGrd']\n",
    "X = X_full[features].copy()\n",
    "X_test = X_test_full[features].copy()\n",
    "\n",
    "# Break off validation set from training data\n",
    "X_train, X_valid, y_train, y_valid = train_test_split(X, y, train_size=0.8, test_size=0.2,\n",
    "                                                      random_state=0)"
   ]
  },
  {
   "cell_type": "markdown",
   "id": "7bc08f2f",
   "metadata": {
    "papermill": {
     "duration": 0.004786,
     "end_time": "2024-01-05T11:09:58.487985",
     "exception": false,
     "start_time": "2024-01-05T11:09:58.483199",
     "status": "completed"
    },
    "tags": []
   },
   "source": [
    "Use the next cell to print the first several rows of the data. It's a nice way to get an overview of the data you will use in your price prediction model."
   ]
  },
  {
   "cell_type": "code",
   "execution_count": 3,
   "id": "82ad3a05",
   "metadata": {
    "execution": {
     "iopub.execute_input": "2024-01-05T11:09:58.501348Z",
     "iopub.status.busy": "2024-01-05T11:09:58.501013Z",
     "iopub.status.idle": "2024-01-05T11:09:58.521002Z",
     "shell.execute_reply": "2024-01-05T11:09:58.519451Z"
    },
    "papermill": {
     "duration": 0.030383,
     "end_time": "2024-01-05T11:09:58.524414",
     "exception": false,
     "start_time": "2024-01-05T11:09:58.494031",
     "status": "completed"
    },
    "tags": []
   },
   "outputs": [
    {
     "data": {
      "text/html": [
       "<div>\n",
       "<style scoped>\n",
       "    .dataframe tbody tr th:only-of-type {\n",
       "        vertical-align: middle;\n",
       "    }\n",
       "\n",
       "    .dataframe tbody tr th {\n",
       "        vertical-align: top;\n",
       "    }\n",
       "\n",
       "    .dataframe thead th {\n",
       "        text-align: right;\n",
       "    }\n",
       "</style>\n",
       "<table border=\"1\" class=\"dataframe\">\n",
       "  <thead>\n",
       "    <tr style=\"text-align: right;\">\n",
       "      <th></th>\n",
       "      <th>LotArea</th>\n",
       "      <th>YearBuilt</th>\n",
       "      <th>1stFlrSF</th>\n",
       "      <th>2ndFlrSF</th>\n",
       "      <th>FullBath</th>\n",
       "      <th>BedroomAbvGr</th>\n",
       "      <th>TotRmsAbvGrd</th>\n",
       "    </tr>\n",
       "    <tr>\n",
       "      <th>Id</th>\n",
       "      <th></th>\n",
       "      <th></th>\n",
       "      <th></th>\n",
       "      <th></th>\n",
       "      <th></th>\n",
       "      <th></th>\n",
       "      <th></th>\n",
       "    </tr>\n",
       "  </thead>\n",
       "  <tbody>\n",
       "    <tr>\n",
       "      <th>619</th>\n",
       "      <td>11694</td>\n",
       "      <td>2007</td>\n",
       "      <td>1828</td>\n",
       "      <td>0</td>\n",
       "      <td>2</td>\n",
       "      <td>3</td>\n",
       "      <td>9</td>\n",
       "    </tr>\n",
       "    <tr>\n",
       "      <th>871</th>\n",
       "      <td>6600</td>\n",
       "      <td>1962</td>\n",
       "      <td>894</td>\n",
       "      <td>0</td>\n",
       "      <td>1</td>\n",
       "      <td>2</td>\n",
       "      <td>5</td>\n",
       "    </tr>\n",
       "    <tr>\n",
       "      <th>93</th>\n",
       "      <td>13360</td>\n",
       "      <td>1921</td>\n",
       "      <td>964</td>\n",
       "      <td>0</td>\n",
       "      <td>1</td>\n",
       "      <td>2</td>\n",
       "      <td>5</td>\n",
       "    </tr>\n",
       "    <tr>\n",
       "      <th>818</th>\n",
       "      <td>13265</td>\n",
       "      <td>2002</td>\n",
       "      <td>1689</td>\n",
       "      <td>0</td>\n",
       "      <td>2</td>\n",
       "      <td>3</td>\n",
       "      <td>7</td>\n",
       "    </tr>\n",
       "    <tr>\n",
       "      <th>303</th>\n",
       "      <td>13704</td>\n",
       "      <td>2001</td>\n",
       "      <td>1541</td>\n",
       "      <td>0</td>\n",
       "      <td>2</td>\n",
       "      <td>3</td>\n",
       "      <td>6</td>\n",
       "    </tr>\n",
       "  </tbody>\n",
       "</table>\n",
       "</div>"
      ],
      "text/plain": [
       "     LotArea  YearBuilt  1stFlrSF  2ndFlrSF  FullBath  BedroomAbvGr  \\\n",
       "Id                                                                    \n",
       "619    11694       2007      1828         0         2             3   \n",
       "871     6600       1962       894         0         1             2   \n",
       "93     13360       1921       964         0         1             2   \n",
       "818    13265       2002      1689         0         2             3   \n",
       "303    13704       2001      1541         0         2             3   \n",
       "\n",
       "     TotRmsAbvGrd  \n",
       "Id                 \n",
       "619             9  \n",
       "871             5  \n",
       "93              5  \n",
       "818             7  \n",
       "303             6  "
      ]
     },
     "execution_count": 3,
     "metadata": {},
     "output_type": "execute_result"
    }
   ],
   "source": [
    "X_train.head()"
   ]
  },
  {
   "cell_type": "markdown",
   "id": "8f6bdc8f",
   "metadata": {
    "papermill": {
     "duration": 0.005812,
     "end_time": "2024-01-05T11:09:58.536786",
     "exception": false,
     "start_time": "2024-01-05T11:09:58.530974",
     "status": "completed"
    },
    "tags": []
   },
   "source": [
    "The next code cell defines five different random forest models.  Run this code cell without changes.  (_To review **random forests**, look [here](https://www.kaggle.com/dansbecker/random-forests)._)"
   ]
  },
  {
   "cell_type": "code",
   "execution_count": 4,
   "id": "b43532cb",
   "metadata": {
    "execution": {
     "iopub.execute_input": "2024-01-05T11:09:58.549361Z",
     "iopub.status.busy": "2024-01-05T11:09:58.548636Z",
     "iopub.status.idle": "2024-01-05T11:09:58.554578Z",
     "shell.execute_reply": "2024-01-05T11:09:58.553787Z"
    },
    "papermill": {
     "duration": 0.014896,
     "end_time": "2024-01-05T11:09:58.556756",
     "exception": false,
     "start_time": "2024-01-05T11:09:58.541860",
     "status": "completed"
    },
    "tags": []
   },
   "outputs": [],
   "source": [
    "from sklearn.ensemble import RandomForestRegressor\n",
    "\n",
    "# Define the models\n",
    "model_1 = RandomForestRegressor(n_estimators=50, random_state=0)\n",
    "model_2 = RandomForestRegressor(n_estimators=100, random_state=0)\n",
    "model_3 = RandomForestRegressor(n_estimators=100, criterion='absolute_error', random_state=0)\n",
    "model_4 = RandomForestRegressor(n_estimators=200, min_samples_split=20, random_state=0)\n",
    "model_5 = RandomForestRegressor(n_estimators=100, max_depth=7, random_state=0)\n",
    "\n",
    "models = [model_1, model_2, model_3, model_4, model_5]"
   ]
  },
  {
   "cell_type": "markdown",
   "id": "da2fc68c",
   "metadata": {
    "papermill": {
     "duration": 0.004425,
     "end_time": "2024-01-05T11:09:58.566394",
     "exception": false,
     "start_time": "2024-01-05T11:09:58.561969",
     "status": "completed"
    },
    "tags": []
   },
   "source": [
    "To select the best model out of the five, we define a function `score_model()` below.  This function returns the mean absolute error (MAE) from the validation set.  Recall that the best model will obtain the lowest MAE.  (_To review **mean absolute error**, look [here](https://www.kaggle.com/dansbecker/model-validation).)_\n",
    "\n",
    "Run the code cell without changes."
   ]
  },
  {
   "cell_type": "code",
   "execution_count": 5,
   "id": "a03bbc8f",
   "metadata": {
    "execution": {
     "iopub.execute_input": "2024-01-05T11:09:58.577655Z",
     "iopub.status.busy": "2024-01-05T11:09:58.577044Z",
     "iopub.status.idle": "2024-01-05T11:10:02.802703Z",
     "shell.execute_reply": "2024-01-05T11:10:02.800929Z"
    },
    "papermill": {
     "duration": 4.234548,
     "end_time": "2024-01-05T11:10:02.805621",
     "exception": false,
     "start_time": "2024-01-05T11:09:58.571073",
     "status": "completed"
    },
    "tags": []
   },
   "outputs": [
    {
     "name": "stdout",
     "output_type": "stream",
     "text": [
      "Model 1 MAE: 24015\n",
      "Model 2 MAE: 23740\n",
      "Model 3 MAE: 23528\n",
      "Model 4 MAE: 23996\n",
      "Model 5 MAE: 23706\n"
     ]
    }
   ],
   "source": [
    "from sklearn.metrics import mean_absolute_error\n",
    "\n",
    "# Function for comparing different models\n",
    "def score_model(model, X_t=X_train, X_v=X_valid, y_t=y_train, y_v=y_valid):\n",
    "    model.fit(X_t, y_t)\n",
    "    preds = model.predict(X_v)\n",
    "    return mean_absolute_error(y_v, preds)\n",
    "\n",
    "for i in range(0, len(models)):\n",
    "    mae = score_model(models[i])\n",
    "    print(\"Model %d MAE: %d\" % (i+1, mae))"
   ]
  },
  {
   "cell_type": "markdown",
   "id": "27733c7c",
   "metadata": {
    "papermill": {
     "duration": 0.005548,
     "end_time": "2024-01-05T11:10:02.816564",
     "exception": false,
     "start_time": "2024-01-05T11:10:02.811016",
     "status": "completed"
    },
    "tags": []
   },
   "source": [
    "# Step 1: Evaluate several models\n",
    "\n",
    "Use the above results to fill in the line below.  Which model is the best model?  Your answer should be one of `model_1`, `model_2`, `model_3`, `model_4`, or `model_5`."
   ]
  },
  {
   "cell_type": "code",
   "execution_count": 6,
   "id": "1a8070a4",
   "metadata": {
    "execution": {
     "iopub.execute_input": "2024-01-05T11:10:02.828016Z",
     "iopub.status.busy": "2024-01-05T11:10:02.827609Z",
     "iopub.status.idle": "2024-01-05T11:10:02.835008Z",
     "shell.execute_reply": "2024-01-05T11:10:02.834296Z"
    },
    "papermill": {
     "duration": 0.015923,
     "end_time": "2024-01-05T11:10:02.837443",
     "exception": false,
     "start_time": "2024-01-05T11:10:02.821520",
     "status": "completed"
    },
    "tags": []
   },
   "outputs": [
    {
     "data": {
      "application/javascript": [
       "parent.postMessage({\"jupyterEvent\": \"custom.exercise_interaction\", \"data\": {\"outcomeType\": 1, \"valueTowardsCompletion\": 0.5, \"interactionType\": 1, \"questionType\": 2, \"questionId\": \"1_BestModel\", \"learnToolsVersion\": \"0.3.4\", \"failureMessage\": \"\", \"exceptionClass\": \"\", \"trace\": \"\"}}, \"*\")"
      ],
      "text/plain": [
       "<IPython.core.display.Javascript object>"
      ]
     },
     "metadata": {},
     "output_type": "display_data"
    },
    {
     "data": {
      "text/markdown": [
       "<span style=\"color:#33cc33\">Correct</span>"
      ],
      "text/plain": [
       "Correct"
      ]
     },
     "metadata": {},
     "output_type": "display_data"
    }
   ],
   "source": [
    "# Fill in the best model\n",
    "best_model = model_3\n",
    "\n",
    "# Check your answer\n",
    "step_1.check()"
   ]
  },
  {
   "cell_type": "code",
   "execution_count": 7,
   "id": "ef5d89ac",
   "metadata": {
    "execution": {
     "iopub.execute_input": "2024-01-05T11:10:02.850089Z",
     "iopub.status.busy": "2024-01-05T11:10:02.849721Z",
     "iopub.status.idle": "2024-01-05T11:10:02.853803Z",
     "shell.execute_reply": "2024-01-05T11:10:02.852856Z"
    },
    "papermill": {
     "duration": 0.013625,
     "end_time": "2024-01-05T11:10:02.856583",
     "exception": false,
     "start_time": "2024-01-05T11:10:02.842958",
     "status": "completed"
    },
    "tags": []
   },
   "outputs": [],
   "source": [
    "# Lines below will give you a hint or solution code\n",
    "#step_1.hint()\n",
    "#step_1.solution()"
   ]
  },
  {
   "cell_type": "markdown",
   "id": "9b48c6c8",
   "metadata": {
    "papermill": {
     "duration": 0.004968,
     "end_time": "2024-01-05T11:10:02.867562",
     "exception": false,
     "start_time": "2024-01-05T11:10:02.862594",
     "status": "completed"
    },
    "tags": []
   },
   "source": [
    "# Step 2: Generate test predictions\n",
    "\n",
    "Great. You know how to evaluate what makes an accurate model. Now it's time to go through the modeling process and make predictions. In the line below, create a Random Forest model with the variable name `my_model`."
   ]
  },
  {
   "cell_type": "code",
   "execution_count": 8,
   "id": "25f178e6",
   "metadata": {
    "execution": {
     "iopub.execute_input": "2024-01-05T11:10:02.879570Z",
     "iopub.status.busy": "2024-01-05T11:10:02.879188Z",
     "iopub.status.idle": "2024-01-05T11:10:02.890793Z",
     "shell.execute_reply": "2024-01-05T11:10:02.888764Z"
    },
    "papermill": {
     "duration": 0.020861,
     "end_time": "2024-01-05T11:10:02.893584",
     "exception": false,
     "start_time": "2024-01-05T11:10:02.872723",
     "status": "completed"
    },
    "tags": []
   },
   "outputs": [
    {
     "data": {
      "application/javascript": [
       "parent.postMessage({\"jupyterEvent\": \"custom.exercise_interaction\", \"data\": {\"outcomeType\": 1, \"valueTowardsCompletion\": 0.5, \"interactionType\": 1, \"questionType\": 2, \"questionId\": \"2_Predictions\", \"learnToolsVersion\": \"0.3.4\", \"failureMessage\": \"\", \"exceptionClass\": \"\", \"trace\": \"\"}}, \"*\")"
      ],
      "text/plain": [
       "<IPython.core.display.Javascript object>"
      ]
     },
     "metadata": {},
     "output_type": "display_data"
    },
    {
     "data": {
      "text/markdown": [
       "<span style=\"color:#33cc33\">Correct</span>"
      ],
      "text/plain": [
       "Correct"
      ]
     },
     "metadata": {},
     "output_type": "display_data"
    }
   ],
   "source": [
    "# Define a model\n",
    "my_model = best_model\n",
    "\n",
    "# Check your answer\n",
    "step_2.check()"
   ]
  },
  {
   "cell_type": "code",
   "execution_count": 9,
   "id": "98a984d7",
   "metadata": {
    "execution": {
     "iopub.execute_input": "2024-01-05T11:10:02.907161Z",
     "iopub.status.busy": "2024-01-05T11:10:02.906814Z",
     "iopub.status.idle": "2024-01-05T11:10:02.912405Z",
     "shell.execute_reply": "2024-01-05T11:10:02.910665Z"
    },
    "papermill": {
     "duration": 0.015148,
     "end_time": "2024-01-05T11:10:02.915156",
     "exception": false,
     "start_time": "2024-01-05T11:10:02.900008",
     "status": "completed"
    },
    "tags": []
   },
   "outputs": [],
   "source": [
    "# Lines below will give you a hint or solution code\n",
    "#step_2.hint()\n",
    "#step_2.solution()"
   ]
  },
  {
   "cell_type": "markdown",
   "id": "e2f1589f",
   "metadata": {
    "papermill": {
     "duration": 0.005661,
     "end_time": "2024-01-05T11:10:02.926496",
     "exception": false,
     "start_time": "2024-01-05T11:10:02.920835",
     "status": "completed"
    },
    "tags": []
   },
   "source": [
    "Run the next code cell without changes.  The code fits the model to the training and validation data, and then generates test predictions that are saved to a CSV file.  These test predictions can be submitted directly to the competition!"
   ]
  },
  {
   "cell_type": "code",
   "execution_count": 10,
   "id": "4abf4376",
   "metadata": {
    "execution": {
     "iopub.execute_input": "2024-01-05T11:10:02.942845Z",
     "iopub.status.busy": "2024-01-05T11:10:02.941047Z",
     "iopub.status.idle": "2024-01-05T11:10:06.683310Z",
     "shell.execute_reply": "2024-01-05T11:10:06.681638Z"
    },
    "papermill": {
     "duration": 3.752583,
     "end_time": "2024-01-05T11:10:06.685606",
     "exception": false,
     "start_time": "2024-01-05T11:10:02.933023",
     "status": "completed"
    },
    "tags": []
   },
   "outputs": [],
   "source": [
    "# Fit the model to the training data\n",
    "my_model.fit(X, y)\n",
    "\n",
    "# Generate test predictions\n",
    "preds_test = my_model.predict(X_test)\n",
    "\n",
    "# Save predictions in format used for competition scoring\n",
    "output = pd.DataFrame({'Id': X_test.index,\n",
    "                       'SalePrice': preds_test})\n",
    "output.to_csv('submission.csv', index=False)"
   ]
  },
  {
   "cell_type": "markdown",
   "id": "c43ccd60",
   "metadata": {
    "papermill": {
     "duration": 0.004991,
     "end_time": "2024-01-05T11:10:06.696377",
     "exception": false,
     "start_time": "2024-01-05T11:10:06.691386",
     "status": "completed"
    },
    "tags": []
   },
   "source": [
    "# Submit your results\n",
    "\n",
    "Once you have successfully completed Step 2, you're ready to submit your results to the leaderboard!  First, you'll need to join the competition if you haven't already.  So open a new window by clicking on [this link](https://www.kaggle.com/c/home-data-for-ml-course).  Then click on the **Join Competition** button.  _(If you see a \"Submit Predictions\" button instead of a \"Join Competition\" button, you have already joined the competition, and don't need to do so again.)_\n",
    "\n",
    "Next, follow the instructions below:\n",
    "1. Begin by clicking on the **Save Version** button in the top right corner of the window.  This will generate a pop-up window.  \n",
    "2. Ensure that the **Save and Run All** option is selected, and then click on the **Save** button.\n",
    "3. This generates a window in the bottom left corner of the notebook.  After it has finished running, click on the number to the right of the **Save Version** button.  This pulls up a list of versions on the right of the screen.  Click on the ellipsis **(...)** to the right of the most recent version, and select **Open in Viewer**.  This brings you into view mode of the same page. You will need to scroll down to get back to these instructions.\n",
    "4. Click on the **Data** tab near the top of the screen.  Then, click on the file you would like to submit, and click on the **Submit** button to submit your results to the leaderboard.\n",
    "\n",
    "You have now successfully submitted to the competition!\n",
    "\n",
    "If you want to keep working to improve your performance, select the **Edit** button in the top right of the screen. Then you can change your code and repeat the process. There's a lot of room to improve, and you will climb up the leaderboard as you work.\n"
   ]
  },
  {
   "cell_type": "markdown",
   "id": "e3288146",
   "metadata": {
    "papermill": {
     "duration": 0.004934,
     "end_time": "2024-01-05T11:10:06.706450",
     "exception": false,
     "start_time": "2024-01-05T11:10:06.701516",
     "status": "completed"
    },
    "tags": []
   },
   "source": [
    "# Keep going\n",
    "\n",
    "You've made your first model. But how can you quickly make it better?\n",
    "\n",
    "Learn how to improve your competition results by incorporating columns with **[missing values](https://www.kaggle.com/alexisbcook/missing-values)**."
   ]
  },
  {
   "cell_type": "markdown",
   "id": "35e60bc2",
   "metadata": {
    "papermill": {
     "duration": 0.005168,
     "end_time": "2024-01-05T11:10:06.716840",
     "exception": false,
     "start_time": "2024-01-05T11:10:06.711672",
     "status": "completed"
    },
    "tags": []
   },
   "source": [
    "---\n",
    "\n",
    "\n",
    "\n",
    "\n",
    "*Have questions or comments? Visit the [course discussion forum](https://www.kaggle.com/learn/intermediate-machine-learning/discussion) to chat with other learners.*"
   ]
  }
 ],
 "metadata": {
  "kaggle": {
   "accelerator": "none",
   "dataSources": [
    {
     "databundleVersionId": 111096,
     "sourceId": 10211,
     "sourceType": "competition"
    }
   ],
   "isGpuEnabled": false,
   "isInternetEnabled": false,
   "language": "python",
   "sourceType": "notebook"
  },
  "kernelspec": {
   "display_name": "Python 3",
   "language": "python",
   "name": "python3"
  },
  "language_info": {
   "codemirror_mode": {
    "name": "ipython",
    "version": 3
   },
   "file_extension": ".py",
   "mimetype": "text/x-python",
   "name": "python",
   "nbconvert_exporter": "python",
   "pygments_lexer": "ipython3",
   "version": "3.10.12"
  },
  "papermill": {
   "default_parameters": {},
   "duration": 15.861232,
   "end_time": "2024-01-05T11:10:07.344255",
   "environment_variables": {},
   "exception": null,
   "input_path": "__notebook__.ipynb",
   "output_path": "__notebook__.ipynb",
   "parameters": {},
   "start_time": "2024-01-05T11:09:51.483023",
   "version": "2.4.0"
  }
 },
 "nbformat": 4,
 "nbformat_minor": 5
}
